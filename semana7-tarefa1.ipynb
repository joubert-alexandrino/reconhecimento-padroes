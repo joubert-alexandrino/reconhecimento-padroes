{
 "metadata": {
  "language_info": {
   "codemirror_mode": {
    "name": "ipython",
    "version": 3
   },
   "file_extension": ".py",
   "mimetype": "text/x-python",
   "name": "python",
   "nbconvert_exporter": "python",
   "pygments_lexer": "ipython3",
   "version": "3.8.5"
  },
  "orig_nbformat": 2,
  "kernelspec": {
   "name": "python3",
   "display_name": "Python 3.8.5 64-bit ('base': conda)",
   "metadata": {
    "interpreter": {
     "hash": "cee74f96bb50cbf6e155c365264ac74cf0558e69aeabde359f1ee765503e289b"
    }
   }
  }
 },
 "nbformat": 4,
 "nbformat_minor": 2,
 "cells": [
  {
   "source": [
    "@author Joubert Alexandrino de Souza\n",
    "@version 2021-04-03\n",
    "\n",
    "---------------------------------------------------\n",
    "## Comparação de Ensembles\n",
    "---------------------------------------------------\n",
    "\n",
    "Em um Jupyter Notebook:\n",
    "\n",
    "    Use uma base de dados para classificação com pelo menos 1000 amostras;\n",
    "    Escolha pelo menos três algoritmos de classificação;\n",
    "    Combine os classificadores de duas formas diferentes:\n",
    "        Voting\n",
    "        Stacking\n",
    "    Use gridsearch (ou randomsearch) para ajustar tantos os classificadores fracos quanto o ensemble;\n",
    "    Coloque o Jupyter Notebook no seu GitHub.\n"
   ],
   "cell_type": "markdown",
   "metadata": {}
  },
  {
   "cell_type": "code",
   "execution_count": 52,
   "metadata": {},
   "outputs": [
    {
     "output_type": "stream",
     "name": "stdout",
     "text": [
      "Requirement already satisfied: xgboost in /home/joubert/anaconda3/lib/python3.8/site-packages (1.3.3)\n",
      "Requirement already satisfied: scipy in /home/joubert/anaconda3/lib/python3.8/site-packages (from xgboost) (1.5.2)\n",
      "Requirement already satisfied: numpy in /home/joubert/anaconda3/lib/python3.8/site-packages (from xgboost) (1.19.2)\n"
     ]
    }
   ],
   "source": [
    "#Importa as bibliotecas necessárias\n",
    "import numpy as np\n",
    "import pandas as pd\n",
    "from sklearn.metrics import accuracy_score\n",
    "from sklearn.preprocessing import LabelEncoder\n",
    "from sklearn.pipeline import Pipeline\n",
    "from sklearn.model_selection import cross_validate\n",
    "from sklearn.model_selection import train_test_split\n",
    "from sklearn.model_selection import GridSearchCV\n",
    "from sklearn.tree import DecisionTreeClassifier\n",
    "from sklearn.neighbors import KNeighborsClassifier\n",
    "from sklearn.linear_model import LogisticRegression\n",
    "from sklearn.ensemble import VotingClassifier\n",
    "from xgboost import XGBClassifier\n",
    "import warnings\n",
    "\n",
    "!pip install xgboost"
   ]
  },
  {
   "cell_type": "code",
   "execution_count": 53,
   "metadata": {},
   "outputs": [
    {
     "output_type": "execute_result",
     "data": {
      "text/plain": [
       "  class cap-shape cap-surface cap-color bruises odor gill-attachment  \\\n",
       "0     p         x           s         n       t    p               f   \n",
       "1     e         x           s         y       t    a               f   \n",
       "2     e         b           s         w       t    l               f   \n",
       "3     p         x           y         w       t    p               f   \n",
       "4     e         x           s         g       f    n               f   \n",
       "\n",
       "  gill-spacing gill-size gill-color  ... stalk-surface-below-ring  \\\n",
       "0            c         n          k  ...                        s   \n",
       "1            c         b          k  ...                        s   \n",
       "2            c         b          n  ...                        s   \n",
       "3            c         n          n  ...                        s   \n",
       "4            w         b          k  ...                        s   \n",
       "\n",
       "  stalk-color-above-ring stalk-color-below-ring veil-type veil-color  \\\n",
       "0                      w                      w         p          w   \n",
       "1                      w                      w         p          w   \n",
       "2                      w                      w         p          w   \n",
       "3                      w                      w         p          w   \n",
       "4                      w                      w         p          w   \n",
       "\n",
       "  ring-number ring-type spore-print-color population habitat  \n",
       "0           o         p                 k          s       u  \n",
       "1           o         p                 n          n       g  \n",
       "2           o         p                 n          n       m  \n",
       "3           o         p                 k          s       u  \n",
       "4           o         e                 n          a       g  \n",
       "\n",
       "[5 rows x 23 columns]"
      ],
      "text/html": "<div>\n<style scoped>\n    .dataframe tbody tr th:only-of-type {\n        vertical-align: middle;\n    }\n\n    .dataframe tbody tr th {\n        vertical-align: top;\n    }\n\n    .dataframe thead th {\n        text-align: right;\n    }\n</style>\n<table border=\"1\" class=\"dataframe\">\n  <thead>\n    <tr style=\"text-align: right;\">\n      <th></th>\n      <th>class</th>\n      <th>cap-shape</th>\n      <th>cap-surface</th>\n      <th>cap-color</th>\n      <th>bruises</th>\n      <th>odor</th>\n      <th>gill-attachment</th>\n      <th>gill-spacing</th>\n      <th>gill-size</th>\n      <th>gill-color</th>\n      <th>...</th>\n      <th>stalk-surface-below-ring</th>\n      <th>stalk-color-above-ring</th>\n      <th>stalk-color-below-ring</th>\n      <th>veil-type</th>\n      <th>veil-color</th>\n      <th>ring-number</th>\n      <th>ring-type</th>\n      <th>spore-print-color</th>\n      <th>population</th>\n      <th>habitat</th>\n    </tr>\n  </thead>\n  <tbody>\n    <tr>\n      <th>0</th>\n      <td>p</td>\n      <td>x</td>\n      <td>s</td>\n      <td>n</td>\n      <td>t</td>\n      <td>p</td>\n      <td>f</td>\n      <td>c</td>\n      <td>n</td>\n      <td>k</td>\n      <td>...</td>\n      <td>s</td>\n      <td>w</td>\n      <td>w</td>\n      <td>p</td>\n      <td>w</td>\n      <td>o</td>\n      <td>p</td>\n      <td>k</td>\n      <td>s</td>\n      <td>u</td>\n    </tr>\n    <tr>\n      <th>1</th>\n      <td>e</td>\n      <td>x</td>\n      <td>s</td>\n      <td>y</td>\n      <td>t</td>\n      <td>a</td>\n      <td>f</td>\n      <td>c</td>\n      <td>b</td>\n      <td>k</td>\n      <td>...</td>\n      <td>s</td>\n      <td>w</td>\n      <td>w</td>\n      <td>p</td>\n      <td>w</td>\n      <td>o</td>\n      <td>p</td>\n      <td>n</td>\n      <td>n</td>\n      <td>g</td>\n    </tr>\n    <tr>\n      <th>2</th>\n      <td>e</td>\n      <td>b</td>\n      <td>s</td>\n      <td>w</td>\n      <td>t</td>\n      <td>l</td>\n      <td>f</td>\n      <td>c</td>\n      <td>b</td>\n      <td>n</td>\n      <td>...</td>\n      <td>s</td>\n      <td>w</td>\n      <td>w</td>\n      <td>p</td>\n      <td>w</td>\n      <td>o</td>\n      <td>p</td>\n      <td>n</td>\n      <td>n</td>\n      <td>m</td>\n    </tr>\n    <tr>\n      <th>3</th>\n      <td>p</td>\n      <td>x</td>\n      <td>y</td>\n      <td>w</td>\n      <td>t</td>\n      <td>p</td>\n      <td>f</td>\n      <td>c</td>\n      <td>n</td>\n      <td>n</td>\n      <td>...</td>\n      <td>s</td>\n      <td>w</td>\n      <td>w</td>\n      <td>p</td>\n      <td>w</td>\n      <td>o</td>\n      <td>p</td>\n      <td>k</td>\n      <td>s</td>\n      <td>u</td>\n    </tr>\n    <tr>\n      <th>4</th>\n      <td>e</td>\n      <td>x</td>\n      <td>s</td>\n      <td>g</td>\n      <td>f</td>\n      <td>n</td>\n      <td>f</td>\n      <td>w</td>\n      <td>b</td>\n      <td>k</td>\n      <td>...</td>\n      <td>s</td>\n      <td>w</td>\n      <td>w</td>\n      <td>p</td>\n      <td>w</td>\n      <td>o</td>\n      <td>e</td>\n      <td>n</td>\n      <td>a</td>\n      <td>g</td>\n    </tr>\n  </tbody>\n</table>\n<p>5 rows × 23 columns</p>\n</div>"
     },
     "metadata": {},
     "execution_count": 53
    }
   ],
   "source": [
    "#Realiza a leitura dos dados\n",
    "dados = pd.read_csv(\"https://raw.githubusercontent.com/joubert-alexandrino/reconhecimento-padroes/main/mushrooms.csv\")\n",
    "dados.head()"
   ]
  },
  {
   "cell_type": "code",
   "execution_count": 54,
   "metadata": {},
   "outputs": [
    {
     "output_type": "stream",
     "name": "stdout",
     "text": [
      "<class 'pandas.core.frame.DataFrame'>\nRangeIndex: 8124 entries, 0 to 8123\nData columns (total 23 columns):\n #   Column                    Non-Null Count  Dtype \n---  ------                    --------------  ----- \n 0   class                     8124 non-null   object\n 1   cap-shape                 8124 non-null   object\n 2   cap-surface               8124 non-null   object\n 3   cap-color                 8124 non-null   object\n 4   bruises                   8124 non-null   object\n 5   odor                      8124 non-null   object\n 6   gill-attachment           8124 non-null   object\n 7   gill-spacing              8124 non-null   object\n 8   gill-size                 8124 non-null   object\n 9   gill-color                8124 non-null   object\n 10  stalk-shape               8124 non-null   object\n 11  stalk-root                8124 non-null   object\n 12  stalk-surface-above-ring  8124 non-null   object\n 13  stalk-surface-below-ring  8124 non-null   object\n 14  stalk-color-above-ring    8124 non-null   object\n 15  stalk-color-below-ring    8124 non-null   object\n 16  veil-type                 8124 non-null   object\n 17  veil-color                8124 non-null   object\n 18  ring-number               8124 non-null   object\n 19  ring-type                 8124 non-null   object\n 20  spore-print-color         8124 non-null   object\n 21  population                8124 non-null   object\n 22  habitat                   8124 non-null   object\ndtypes: object(23)\nmemory usage: 1.4+ MB\n"
     ]
    }
   ],
   "source": [
    "dados.info()"
   ]
  },
  {
   "cell_type": "code",
   "execution_count": 55,
   "metadata": {},
   "outputs": [
    {
     "output_type": "execute_result",
     "data": {
      "text/plain": [
       "class                       0\n",
       "cap-shape                   0\n",
       "cap-surface                 0\n",
       "cap-color                   0\n",
       "bruises                     0\n",
       "odor                        0\n",
       "gill-attachment             0\n",
       "gill-spacing                0\n",
       "gill-size                   0\n",
       "gill-color                  0\n",
       "stalk-shape                 0\n",
       "stalk-root                  0\n",
       "stalk-surface-above-ring    0\n",
       "stalk-surface-below-ring    0\n",
       "stalk-color-above-ring      0\n",
       "stalk-color-below-ring      0\n",
       "veil-type                   0\n",
       "veil-color                  0\n",
       "ring-number                 0\n",
       "ring-type                   0\n",
       "spore-print-color           0\n",
       "population                  0\n",
       "habitat                     0\n",
       "dtype: int64"
      ]
     },
     "metadata": {},
     "execution_count": 55
    }
   ],
   "source": [
    "dados.isnull().sum()"
   ]
  },
  {
   "cell_type": "code",
   "execution_count": 56,
   "metadata": {},
   "outputs": [
    {
     "output_type": "execute_result",
     "data": {
      "text/plain": [
       "   class  cap-shape  cap-surface  cap-color  bruises  odor  gill-attachment  \\\n",
       "0      1          5            2          4        1     6                1   \n",
       "1      0          5            2          9        1     0                1   \n",
       "2      0          0            2          8        1     3                1   \n",
       "3      1          5            3          8        1     6                1   \n",
       "4      0          5            2          3        0     5                1   \n",
       "\n",
       "   gill-spacing  gill-size  gill-color  ...  stalk-surface-below-ring  \\\n",
       "0             0          1           4  ...                         2   \n",
       "1             0          0           4  ...                         2   \n",
       "2             0          0           5  ...                         2   \n",
       "3             0          1           5  ...                         2   \n",
       "4             1          0           4  ...                         2   \n",
       "\n",
       "   stalk-color-above-ring  stalk-color-below-ring  veil-type  veil-color  \\\n",
       "0                       7                       7          0           2   \n",
       "1                       7                       7          0           2   \n",
       "2                       7                       7          0           2   \n",
       "3                       7                       7          0           2   \n",
       "4                       7                       7          0           2   \n",
       "\n",
       "   ring-number  ring-type  spore-print-color  population  habitat  \n",
       "0            1          4                  2           3        5  \n",
       "1            1          4                  3           2        1  \n",
       "2            1          4                  3           2        3  \n",
       "3            1          4                  2           3        5  \n",
       "4            1          0                  3           0        1  \n",
       "\n",
       "[5 rows x 23 columns]"
      ],
      "text/html": "<div>\n<style scoped>\n    .dataframe tbody tr th:only-of-type {\n        vertical-align: middle;\n    }\n\n    .dataframe tbody tr th {\n        vertical-align: top;\n    }\n\n    .dataframe thead th {\n        text-align: right;\n    }\n</style>\n<table border=\"1\" class=\"dataframe\">\n  <thead>\n    <tr style=\"text-align: right;\">\n      <th></th>\n      <th>class</th>\n      <th>cap-shape</th>\n      <th>cap-surface</th>\n      <th>cap-color</th>\n      <th>bruises</th>\n      <th>odor</th>\n      <th>gill-attachment</th>\n      <th>gill-spacing</th>\n      <th>gill-size</th>\n      <th>gill-color</th>\n      <th>...</th>\n      <th>stalk-surface-below-ring</th>\n      <th>stalk-color-above-ring</th>\n      <th>stalk-color-below-ring</th>\n      <th>veil-type</th>\n      <th>veil-color</th>\n      <th>ring-number</th>\n      <th>ring-type</th>\n      <th>spore-print-color</th>\n      <th>population</th>\n      <th>habitat</th>\n    </tr>\n  </thead>\n  <tbody>\n    <tr>\n      <th>0</th>\n      <td>1</td>\n      <td>5</td>\n      <td>2</td>\n      <td>4</td>\n      <td>1</td>\n      <td>6</td>\n      <td>1</td>\n      <td>0</td>\n      <td>1</td>\n      <td>4</td>\n      <td>...</td>\n      <td>2</td>\n      <td>7</td>\n      <td>7</td>\n      <td>0</td>\n      <td>2</td>\n      <td>1</td>\n      <td>4</td>\n      <td>2</td>\n      <td>3</td>\n      <td>5</td>\n    </tr>\n    <tr>\n      <th>1</th>\n      <td>0</td>\n      <td>5</td>\n      <td>2</td>\n      <td>9</td>\n      <td>1</td>\n      <td>0</td>\n      <td>1</td>\n      <td>0</td>\n      <td>0</td>\n      <td>4</td>\n      <td>...</td>\n      <td>2</td>\n      <td>7</td>\n      <td>7</td>\n      <td>0</td>\n      <td>2</td>\n      <td>1</td>\n      <td>4</td>\n      <td>3</td>\n      <td>2</td>\n      <td>1</td>\n    </tr>\n    <tr>\n      <th>2</th>\n      <td>0</td>\n      <td>0</td>\n      <td>2</td>\n      <td>8</td>\n      <td>1</td>\n      <td>3</td>\n      <td>1</td>\n      <td>0</td>\n      <td>0</td>\n      <td>5</td>\n      <td>...</td>\n      <td>2</td>\n      <td>7</td>\n      <td>7</td>\n      <td>0</td>\n      <td>2</td>\n      <td>1</td>\n      <td>4</td>\n      <td>3</td>\n      <td>2</td>\n      <td>3</td>\n    </tr>\n    <tr>\n      <th>3</th>\n      <td>1</td>\n      <td>5</td>\n      <td>3</td>\n      <td>8</td>\n      <td>1</td>\n      <td>6</td>\n      <td>1</td>\n      <td>0</td>\n      <td>1</td>\n      <td>5</td>\n      <td>...</td>\n      <td>2</td>\n      <td>7</td>\n      <td>7</td>\n      <td>0</td>\n      <td>2</td>\n      <td>1</td>\n      <td>4</td>\n      <td>2</td>\n      <td>3</td>\n      <td>5</td>\n    </tr>\n    <tr>\n      <th>4</th>\n      <td>0</td>\n      <td>5</td>\n      <td>2</td>\n      <td>3</td>\n      <td>0</td>\n      <td>5</td>\n      <td>1</td>\n      <td>1</td>\n      <td>0</td>\n      <td>4</td>\n      <td>...</td>\n      <td>2</td>\n      <td>7</td>\n      <td>7</td>\n      <td>0</td>\n      <td>2</td>\n      <td>1</td>\n      <td>0</td>\n      <td>3</td>\n      <td>0</td>\n      <td>1</td>\n    </tr>\n  </tbody>\n</table>\n<p>5 rows × 23 columns</p>\n</div>"
     },
     "metadata": {},
     "execution_count": 56
    }
   ],
   "source": [
    "#Realiza a conversão dos dados rotulados para numericos\n",
    "labelenconder = LabelEncoder()\n",
    "for caracteristica in dados.columns:\n",
    "    dados[caracteristica] = labelenconder.fit_transform(dados[caracteristica])\n",
    "\n",
    "dados.head()\n"
   ]
  },
  {
   "cell_type": "code",
   "execution_count": 57,
   "metadata": {},
   "outputs": [
    {
     "output_type": "execute_result",
     "data": {
      "text/plain": [
       "((6093, 22), (2031, 22), (6093,), (2031,))"
      ]
     },
     "metadata": {},
     "execution_count": 57
    }
   ],
   "source": [
    "#Realiza a divisão de um conjunto de treinamento e teste \n",
    "X, y = dados.drop(['class'], axis=1, inplace=False), dados['class']\n",
    "Xtreino, Xteste, ytreino, yteste = train_test_split(X, y, random_state=42, shuffle=True)\n",
    "Xtreino.shape, Xteste.shape, ytreino.shape, yteste.shape"
   ]
  },
  {
   "source": [
    "## Voting"
   ],
   "cell_type": "markdown",
   "metadata": {}
  },
  {
   "cell_type": "code",
   "execution_count": 58,
   "metadata": {},
   "outputs": [
    {
     "output_type": "execute_result",
     "data": {
      "text/plain": [
       "({'fit_time': array([2.02931404, 2.02196169, 1.99002099, 2.04108429, 2.03601933]),\n",
       "  'score_time': array([0.0929544 , 0.08791137, 0.09773231, 0.08906364, 0.09117818]),\n",
       "  'estimator': (GridSearchCV(estimator=Pipeline(steps=[('ensemble',\n",
       "                                           VotingClassifier(estimators=[('KNN',\n",
       "                                                                         KNeighborsClassifier()),\n",
       "                                                                        ('TREE',\n",
       "                                                                         DecisionTreeClassifier()),\n",
       "                                                                        ('LOGISTIC',\n",
       "                                                                         LogisticRegression())],\n",
       "                                                            n_jobs=-1))]),\n",
       "                n_jobs=-1, param_grid={'ensemble__KNN__n_neighbors': [3, 5, 7]},\n",
       "                return_train_score=True),\n",
       "   GridSearchCV(estimator=Pipeline(steps=[('ensemble',\n",
       "                                           VotingClassifier(estimators=[('KNN',\n",
       "                                                                         KNeighborsClassifier()),\n",
       "                                                                        ('TREE',\n",
       "                                                                         DecisionTreeClassifier()),\n",
       "                                                                        ('LOGISTIC',\n",
       "                                                                         LogisticRegression())],\n",
       "                                                            n_jobs=-1))]),\n",
       "                n_jobs=-1, param_grid={'ensemble__KNN__n_neighbors': [3, 5, 7]},\n",
       "                return_train_score=True),\n",
       "   GridSearchCV(estimator=Pipeline(steps=[('ensemble',\n",
       "                                           VotingClassifier(estimators=[('KNN',\n",
       "                                                                         KNeighborsClassifier()),\n",
       "                                                                        ('TREE',\n",
       "                                                                         DecisionTreeClassifier()),\n",
       "                                                                        ('LOGISTIC',\n",
       "                                                                         LogisticRegression())],\n",
       "                                                            n_jobs=-1))]),\n",
       "                n_jobs=-1, param_grid={'ensemble__KNN__n_neighbors': [3, 5, 7]},\n",
       "                return_train_score=True),\n",
       "   GridSearchCV(estimator=Pipeline(steps=[('ensemble',\n",
       "                                           VotingClassifier(estimators=[('KNN',\n",
       "                                                                         KNeighborsClassifier()),\n",
       "                                                                        ('TREE',\n",
       "                                                                         DecisionTreeClassifier()),\n",
       "                                                                        ('LOGISTIC',\n",
       "                                                                         LogisticRegression())],\n",
       "                                                            n_jobs=-1))]),\n",
       "                n_jobs=-1, param_grid={'ensemble__KNN__n_neighbors': [3, 5, 7]},\n",
       "                return_train_score=True),\n",
       "   GridSearchCV(estimator=Pipeline(steps=[('ensemble',\n",
       "                                           VotingClassifier(estimators=[('KNN',\n",
       "                                                                         KNeighborsClassifier()),\n",
       "                                                                        ('TREE',\n",
       "                                                                         DecisionTreeClassifier()),\n",
       "                                                                        ('LOGISTIC',\n",
       "                                                                         LogisticRegression())],\n",
       "                                                            n_jobs=-1))]),\n",
       "                n_jobs=-1, param_grid={'ensemble__KNN__n_neighbors': [3, 5, 7]},\n",
       "                return_train_score=True)),\n",
       "  'test_score': array([0.99917966, 1.        , 1.        , 1.        , 1.        ])},\n",
       " 0.9998359310910583)"
      ]
     },
     "metadata": {},
     "execution_count": 58
    }
   ],
   "source": [
    "#Configura os estimadores e realiza seu treinamento com validação cruzada\n",
    "estimadores =  VotingClassifier([\n",
    "    ('KNN', KNeighborsClassifier()),    \n",
    "    ('TREE', DecisionTreeClassifier()),\n",
    "    ('LOGISTIC', LogisticRegression())\n",
    "], n_jobs=-1)\n",
    "\n",
    "pipe = Pipeline([\n",
    "    ('ensemble', estimadores)\n",
    "])\n",
    "\n",
    "parametros = {\n",
    "    \n",
    "    'ensemble__KNN__n_neighbors':[3,5,7]\n",
    "}\n",
    "\n",
    "modelo = GridSearchCV(pipe, param_grid=parametros, return_train_score = True, n_jobs=-1)\n",
    "\n",
    "scores = cross_validate(modelo, Xtreino, ytreino, return_estimator=True)\n",
    "#Exibe os resultados do treinamento\n",
    "scores, np.mean(scores['test_score'])"
   ]
  },
  {
   "cell_type": "code",
   "execution_count": 59,
   "metadata": {},
   "outputs": [
    {
     "output_type": "execute_result",
     "data": {
      "text/plain": [
       "(1971    True\n",
       " 6654    True\n",
       " 5606    True\n",
       " 3332    True\n",
       " 6988    True\n",
       "         ... \n",
       " 1966    True\n",
       " 5103    True\n",
       " 51      True\n",
       " 7724    True\n",
       " 6211    True\n",
       " Name: class, Length: 2031, dtype: bool,\n",
       " 0.999015263417036)"
      ]
     },
     "metadata": {},
     "execution_count": 59
    }
   ],
   "source": [
    "\n",
    "#Realiza a predição\n",
    "melhor_classificador = scores['estimator'][np.argmax(scores['test_score'])].best_estimator_\n",
    "ypred = melhor_classificador.predict(Xteste)\n",
    "hits = yteste == ypred\n",
    "hits, sum(hits)/len(hits)"
   ]
  },
  {
   "source": [
    "## Stacking"
   ],
   "cell_type": "markdown",
   "metadata": {}
  },
  {
   "cell_type": "code",
   "execution_count": 60,
   "metadata": {},
   "outputs": [
    {
     "output_type": "stream",
     "name": "stdout",
     "text": [
      "[23:00:24] WARNING: ../src/learner.cc:1061: Starting in XGBoost 1.3.0, the default evaluation metric used with the objective 'binary:logistic' was changed from 'error' to 'logloss'. Explicitly set eval_metric if you'd like to restore the old behavior.\n",
      "[23:00:30] WARNING: ../src/learner.cc:1061: Starting in XGBoost 1.3.0, the default evaluation metric used with the objective 'binary:logistic' was changed from 'error' to 'logloss'. Explicitly set eval_metric if you'd like to restore the old behavior.\n",
      "[23:00:35] WARNING: ../src/learner.cc:1061: Starting in XGBoost 1.3.0, the default evaluation metric used with the objective 'binary:logistic' was changed from 'error' to 'logloss'. Explicitly set eval_metric if you'd like to restore the old behavior.\n",
      "[23:00:40] WARNING: ../src/learner.cc:1061: Starting in XGBoost 1.3.0, the default evaluation metric used with the objective 'binary:logistic' was changed from 'error' to 'logloss'. Explicitly set eval_metric if you'd like to restore the old behavior.\n",
      "[23:00:45] WARNING: ../src/learner.cc:1061: Starting in XGBoost 1.3.0, the default evaluation metric used with the objective 'binary:logistic' was changed from 'error' to 'logloss'. Explicitly set eval_metric if you'd like to restore the old behavior.\n"
     ]
    },
    {
     "output_type": "execute_result",
     "data": {
      "text/plain": [
       "({'fit_time': array([5.4812932 , 5.11215806, 5.01897573, 5.31384206, 5.17748666]),\n",
       "  'score_time': array([0.00436187, 0.00463367, 0.00398946, 0.004529  , 0.00650048]),\n",
       "  'estimator': (GridSearchCV(estimator=Pipeline(steps=[('ensemble',\n",
       "                                           XGBClassifier(base_score=None,\n",
       "                                                         booster=None,\n",
       "                                                         colsample_bylevel=None,\n",
       "                                                         colsample_bynode=None,\n",
       "                                                         colsample_bytree=None,\n",
       "                                                         gamma=None, gpu_id=None,\n",
       "                                                         importance_type='gain',\n",
       "                                                         interaction_constraints=None,\n",
       "                                                         learning_rate=None,\n",
       "                                                         max_delta_step=None,\n",
       "                                                         max_depth=None,\n",
       "                                                         min_child_weight=None,\n",
       "                                                         missing=nan,\n",
       "                                                         monotone_constraints=None,\n",
       "                                                         n_estimators=100,\n",
       "                                                         n_jobs=-1,\n",
       "                                                         num_parallel_tree=None,\n",
       "                                                         random_state=None,\n",
       "                                                         reg_alpha=None,\n",
       "                                                         reg_lambda=None,\n",
       "                                                         scale_pos_weight=None,\n",
       "                                                         subsample=None,\n",
       "                                                         tree_method=None,\n",
       "                                                         validate_parameters=None,\n",
       "                                                         verbosity=None))]),\n",
       "                n_jobs=-1,\n",
       "                param_grid={'ensemble__use_label_encoder': [True, False]},\n",
       "                return_train_score=True),\n",
       "   GridSearchCV(estimator=Pipeline(steps=[('ensemble',\n",
       "                                           XGBClassifier(base_score=None,\n",
       "                                                         booster=None,\n",
       "                                                         colsample_bylevel=None,\n",
       "                                                         colsample_bynode=None,\n",
       "                                                         colsample_bytree=None,\n",
       "                                                         gamma=None, gpu_id=None,\n",
       "                                                         importance_type='gain',\n",
       "                                                         interaction_constraints=None,\n",
       "                                                         learning_rate=None,\n",
       "                                                         max_delta_step=None,\n",
       "                                                         max_depth=None,\n",
       "                                                         min_child_weight=None,\n",
       "                                                         missing=nan,\n",
       "                                                         monotone_constraints=None,\n",
       "                                                         n_estimators=100,\n",
       "                                                         n_jobs=-1,\n",
       "                                                         num_parallel_tree=None,\n",
       "                                                         random_state=None,\n",
       "                                                         reg_alpha=None,\n",
       "                                                         reg_lambda=None,\n",
       "                                                         scale_pos_weight=None,\n",
       "                                                         subsample=None,\n",
       "                                                         tree_method=None,\n",
       "                                                         validate_parameters=None,\n",
       "                                                         verbosity=None))]),\n",
       "                n_jobs=-1,\n",
       "                param_grid={'ensemble__use_label_encoder': [True, False]},\n",
       "                return_train_score=True),\n",
       "   GridSearchCV(estimator=Pipeline(steps=[('ensemble',\n",
       "                                           XGBClassifier(base_score=None,\n",
       "                                                         booster=None,\n",
       "                                                         colsample_bylevel=None,\n",
       "                                                         colsample_bynode=None,\n",
       "                                                         colsample_bytree=None,\n",
       "                                                         gamma=None, gpu_id=None,\n",
       "                                                         importance_type='gain',\n",
       "                                                         interaction_constraints=None,\n",
       "                                                         learning_rate=None,\n",
       "                                                         max_delta_step=None,\n",
       "                                                         max_depth=None,\n",
       "                                                         min_child_weight=None,\n",
       "                                                         missing=nan,\n",
       "                                                         monotone_constraints=None,\n",
       "                                                         n_estimators=100,\n",
       "                                                         n_jobs=-1,\n",
       "                                                         num_parallel_tree=None,\n",
       "                                                         random_state=None,\n",
       "                                                         reg_alpha=None,\n",
       "                                                         reg_lambda=None,\n",
       "                                                         scale_pos_weight=None,\n",
       "                                                         subsample=None,\n",
       "                                                         tree_method=None,\n",
       "                                                         validate_parameters=None,\n",
       "                                                         verbosity=None))]),\n",
       "                n_jobs=-1,\n",
       "                param_grid={'ensemble__use_label_encoder': [True, False]},\n",
       "                return_train_score=True),\n",
       "   GridSearchCV(estimator=Pipeline(steps=[('ensemble',\n",
       "                                           XGBClassifier(base_score=None,\n",
       "                                                         booster=None,\n",
       "                                                         colsample_bylevel=None,\n",
       "                                                         colsample_bynode=None,\n",
       "                                                         colsample_bytree=None,\n",
       "                                                         gamma=None, gpu_id=None,\n",
       "                                                         importance_type='gain',\n",
       "                                                         interaction_constraints=None,\n",
       "                                                         learning_rate=None,\n",
       "                                                         max_delta_step=None,\n",
       "                                                         max_depth=None,\n",
       "                                                         min_child_weight=None,\n",
       "                                                         missing=nan,\n",
       "                                                         monotone_constraints=None,\n",
       "                                                         n_estimators=100,\n",
       "                                                         n_jobs=-1,\n",
       "                                                         num_parallel_tree=None,\n",
       "                                                         random_state=None,\n",
       "                                                         reg_alpha=None,\n",
       "                                                         reg_lambda=None,\n",
       "                                                         scale_pos_weight=None,\n",
       "                                                         subsample=None,\n",
       "                                                         tree_method=None,\n",
       "                                                         validate_parameters=None,\n",
       "                                                         verbosity=None))]),\n",
       "                n_jobs=-1,\n",
       "                param_grid={'ensemble__use_label_encoder': [True, False]},\n",
       "                return_train_score=True),\n",
       "   GridSearchCV(estimator=Pipeline(steps=[('ensemble',\n",
       "                                           XGBClassifier(base_score=None,\n",
       "                                                         booster=None,\n",
       "                                                         colsample_bylevel=None,\n",
       "                                                         colsample_bynode=None,\n",
       "                                                         colsample_bytree=None,\n",
       "                                                         gamma=None, gpu_id=None,\n",
       "                                                         importance_type='gain',\n",
       "                                                         interaction_constraints=None,\n",
       "                                                         learning_rate=None,\n",
       "                                                         max_delta_step=None,\n",
       "                                                         max_depth=None,\n",
       "                                                         min_child_weight=None,\n",
       "                                                         missing=nan,\n",
       "                                                         monotone_constraints=None,\n",
       "                                                         n_estimators=100,\n",
       "                                                         n_jobs=-1,\n",
       "                                                         num_parallel_tree=None,\n",
       "                                                         random_state=None,\n",
       "                                                         reg_alpha=None,\n",
       "                                                         reg_lambda=None,\n",
       "                                                         scale_pos_weight=None,\n",
       "                                                         subsample=None,\n",
       "                                                         tree_method=None,\n",
       "                                                         validate_parameters=None,\n",
       "                                                         verbosity=None))]),\n",
       "                n_jobs=-1,\n",
       "                param_grid={'ensemble__use_label_encoder': [True, False]},\n",
       "                return_train_score=True)),\n",
       "  'test_score': array([1., 1., 1., 1., 1.])},\n",
       " 1.0)"
      ]
     },
     "metadata": {},
     "execution_count": 60
    }
   ],
   "source": [
    "#Desabilita os warnings\n",
    "warnings.filterwarnings('ignore')\n",
    "#Configura os estimadores e realiza seu treinamento com validação cruzada\n",
    "estimadores =  XGBClassifier(n_jobs=-1)\n",
    "\n",
    "pipe = Pipeline([\n",
    "    ('ensemble', estimadores)\n",
    "])\n",
    "\n",
    "parametros = {\n",
    "    \n",
    "    #'ensemble__KNN__n_neighbors':[3,5,7]\n",
    "    'ensemble__use_label_encoder':[True, False]\n",
    "}\n",
    "\n",
    "modelo = GridSearchCV(pipe, param_grid=parametros, return_train_score = True, n_jobs=-1)\n",
    "\n",
    "scores = cross_validate(modelo, Xtreino, ytreino, return_estimator=True)\n",
    "#Exibe os resultados do treinamento\n",
    "scores, np.mean(scores['test_score'])"
   ]
  },
  {
   "cell_type": "code",
   "execution_count": 61,
   "metadata": {},
   "outputs": [
    {
     "output_type": "execute_result",
     "data": {
      "text/plain": [
       "(1971    True\n",
       " 6654    True\n",
       " 5606    True\n",
       " 3332    True\n",
       " 6988    True\n",
       "         ... \n",
       " 1966    True\n",
       " 5103    True\n",
       " 51      True\n",
       " 7724    True\n",
       " 6211    True\n",
       " Name: class, Length: 2031, dtype: bool,\n",
       " 1.0)"
      ]
     },
     "metadata": {},
     "execution_count": 61
    }
   ],
   "source": [
    "melhor_classificador = scores['estimator'][np.argmax(scores['test_score'])].best_estimator_\n",
    "ypred = melhor_classificador.predict(Xteste)\n",
    "hits = yteste == ypred\n",
    "hits, sum(hits)/len(hits)"
   ]
  }
 ]
}