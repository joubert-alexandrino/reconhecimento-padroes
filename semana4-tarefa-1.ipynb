{
 "metadata": {
  "language_info": {
   "codemirror_mode": {
    "name": "ipython",
    "version": 3
   },
   "file_extension": ".py",
   "mimetype": "text/x-python",
   "name": "python",
   "nbconvert_exporter": "python",
   "pygments_lexer": "ipython3",
   "version": "3.7.6-final"
  },
  "orig_nbformat": 2,
  "kernelspec": {
   "name": "python3",
   "display_name": "Python 3"
  }
 },
 "nbformat": 4,
 "nbformat_minor": 2,
 "cells": [
  {
   "source": [
    "@author Joubert Alexandrino de Souza\n",
    "@version 2020-12-11\n",
    "\n",
    "-----------------------------------------------\n",
    "# Avaliando a generalização de algoritmos\n",
    "-----------------------------------------------"
   ],
   "cell_type": "markdown",
   "metadata": {}
  },
  {
   "source": [
    "## Escolha uma base de classificação e compare os classificadores Logistic Regression e KNN do scikit-learn.\n",
    "## Use pelo menos duas formas de avaliação e as repita pelo menos 10 vezes. \n",
    "## Calcule a média das repetições de cada avaliação."
   ],
   "cell_type": "markdown",
   "metadata": {}
  },
  {
   "source": [
    "## Base de dados\n",
    "\n",
    "<b>Indian Liver Patient Records</b>\n",
    "\n",
    "<b>Data available at:</b> https://www.kaggle.com/uciml/indian-liver-patient-records\n",
    "\n",
    "<b>Context</b>\n",
    "\n",
    "Patients with Liver disease have been continuously increasing because of excessive consumption of alcohol, inhale of harmful gases, intake of contaminated food, pickles and drugs. This dataset was used to evaluate prediction algorithms in an effort to reduce burden on doctors.\n",
    "Content\n",
    "\n",
    "This data set contains 416 liver patient records and 167 non liver patient records collected from North East of Andhra Pradesh, India. The \"Dataset\" column is a class label used to divide groups into liver patient (liver disease) or not (no disease). This data set contains 441 male patient records and 142 female patient records.\n",
    "\n",
    "Any patient whose age exceeded 89 is listed as being of age \"90\".\n",
    "\n",
    "<b>Columns:</b>\n",
    "\n",
    "    Age of the patient\n",
    "    Gender of the patient\n",
    "    Total Bilirubin\n",
    "    Direct Bilirubin\n",
    "    Alkaline Phosphotase\n",
    "    Alamine Aminotransferase\n",
    "    Aspartate Aminotransferase\n",
    "    Total Protiens\n",
    "    Albumin\n",
    "    Albumin and Globulin Ratio\n",
    "    Dataset: field used to split the data into two sets (patient with liver disease, or no disease)\n",
    "\n",
    "<b>Objective</b>\n",
    "\n",
    "Use these patient records to determine which patients have liver disease and which ones do not. "
   ],
   "cell_type": "markdown",
   "metadata": {}
  },
  {
   "cell_type": "code",
   "execution_count": 1,
   "metadata": {},
   "outputs": [
    {
     "output_type": "stream",
     "name": "stdout",
     "text": [
      "Requirement already satisfied: category_encoders in /home/joubert/anaconda3/lib/python3.7/site-packages (2.2.2)\n",
      "Requirement already satisfied: scipy>=1.0.0 in /home/joubert/anaconda3/lib/python3.7/site-packages (from category_encoders) (1.4.1)\n",
      "Requirement already satisfied: statsmodels>=0.9.0 in /home/joubert/anaconda3/lib/python3.7/site-packages (from category_encoders) (0.11.0)\n",
      "Requirement already satisfied: patsy>=0.5.1 in /home/joubert/anaconda3/lib/python3.7/site-packages (from category_encoders) (0.5.1)\n",
      "Requirement already satisfied: numpy>=1.14.0 in /home/joubert/anaconda3/lib/python3.7/site-packages (from category_encoders) (1.19.2)\n",
      "Requirement already satisfied: pandas>=0.21.1 in /home/joubert/anaconda3/lib/python3.7/site-packages (from category_encoders) (1.0.1)\n",
      "Requirement already satisfied: scikit-learn>=0.20.0 in /home/joubert/anaconda3/lib/python3.7/site-packages (from category_encoders) (0.22.1)\n",
      "Requirement already satisfied: six in /home/joubert/anaconda3/lib/python3.7/site-packages (from patsy>=0.5.1->category_encoders) (1.14.0)\n",
      "Requirement already satisfied: python-dateutil>=2.6.1 in /home/joubert/anaconda3/lib/python3.7/site-packages (from pandas>=0.21.1->category_encoders) (2.8.1)\n",
      "Requirement already satisfied: pytz>=2017.2 in /home/joubert/anaconda3/lib/python3.7/site-packages (from pandas>=0.21.1->category_encoders) (2019.3)\n",
      "Requirement already satisfied: joblib>=0.11 in /home/joubert/anaconda3/lib/python3.7/site-packages (from scikit-learn>=0.20.0->category_encoders) (0.14.1)\n"
     ]
    }
   ],
   "source": [
    "# Instala as bibliotecas necessárias\n",
    "!pip install category_encoders #O category encoders é um pacote para a manipulação de processos e tarefas de codificação."
   ]
  },
  {
   "cell_type": "code",
   "execution_count": 2,
   "metadata": {},
   "outputs": [],
   "source": [
    "# Importa as bibliotecas necessárias\n",
    "#import matplotlib.pyplot as plt\n",
    "import pandas as pd\n",
    "from category_encoders import OneHotEncoder\n",
    "from sklearn.impute import SimpleImputer\n",
    "from sklearn.pipeline import Pipeline\n",
    "from sklearn.preprocessing import StandardScaler\n",
    "from sklearn.linear_model import LogisticRegression\n",
    "from sklearn.neighbors import KNeighborsClassifier\n",
    "from sklearn.model_selection import GridSearchCV\n",
    "from sklearn.model_selection import cross_validate\n",
    "import numpy as np\n",
    "from sklearn.model_selection import KFold\n",
    "\n",
    "# Ajustes\n",
    "%matplotlib inline"
   ]
  },
  {
   "cell_type": "code",
   "execution_count": 3,
   "metadata": {},
   "outputs": [
    {
     "output_type": "execute_result",
     "data": {
      "text/plain": [
       "   Age  Gender  Total_Bilirubin  Direct_Bilirubin  Alkaline_Phosphotase  \\\n",
       "0   65  Female              0.7               0.1                   187   \n",
       "1   62    Male             10.9               5.5                   699   \n",
       "2   62    Male              7.3               4.1                   490   \n",
       "3   58    Male              1.0               0.4                   182   \n",
       "4   72    Male              3.9               2.0                   195   \n",
       "\n",
       "   Alamine_Aminotransferase  Aspartate_Aminotransferase  Total_Protiens  \\\n",
       "0                        16                          18             6.8   \n",
       "1                        64                         100             7.5   \n",
       "2                        60                          68             7.0   \n",
       "3                        14                          20             6.8   \n",
       "4                        27                          59             7.3   \n",
       "\n",
       "   Albumin  Albumin_and_Globulin_Ratio  Dataset  \n",
       "0      3.3                        0.90        1  \n",
       "1      3.2                        0.74        1  \n",
       "2      3.3                        0.89        1  \n",
       "3      3.4                        1.00        1  \n",
       "4      2.4                        0.40        1  "
      ],
      "text/html": "<div>\n<style scoped>\n    .dataframe tbody tr th:only-of-type {\n        vertical-align: middle;\n    }\n\n    .dataframe tbody tr th {\n        vertical-align: top;\n    }\n\n    .dataframe thead th {\n        text-align: right;\n    }\n</style>\n<table border=\"1\" class=\"dataframe\">\n  <thead>\n    <tr style=\"text-align: right;\">\n      <th></th>\n      <th>Age</th>\n      <th>Gender</th>\n      <th>Total_Bilirubin</th>\n      <th>Direct_Bilirubin</th>\n      <th>Alkaline_Phosphotase</th>\n      <th>Alamine_Aminotransferase</th>\n      <th>Aspartate_Aminotransferase</th>\n      <th>Total_Protiens</th>\n      <th>Albumin</th>\n      <th>Albumin_and_Globulin_Ratio</th>\n      <th>Dataset</th>\n    </tr>\n  </thead>\n  <tbody>\n    <tr>\n      <th>0</th>\n      <td>65</td>\n      <td>Female</td>\n      <td>0.7</td>\n      <td>0.1</td>\n      <td>187</td>\n      <td>16</td>\n      <td>18</td>\n      <td>6.8</td>\n      <td>3.3</td>\n      <td>0.90</td>\n      <td>1</td>\n    </tr>\n    <tr>\n      <th>1</th>\n      <td>62</td>\n      <td>Male</td>\n      <td>10.9</td>\n      <td>5.5</td>\n      <td>699</td>\n      <td>64</td>\n      <td>100</td>\n      <td>7.5</td>\n      <td>3.2</td>\n      <td>0.74</td>\n      <td>1</td>\n    </tr>\n    <tr>\n      <th>2</th>\n      <td>62</td>\n      <td>Male</td>\n      <td>7.3</td>\n      <td>4.1</td>\n      <td>490</td>\n      <td>60</td>\n      <td>68</td>\n      <td>7.0</td>\n      <td>3.3</td>\n      <td>0.89</td>\n      <td>1</td>\n    </tr>\n    <tr>\n      <th>3</th>\n      <td>58</td>\n      <td>Male</td>\n      <td>1.0</td>\n      <td>0.4</td>\n      <td>182</td>\n      <td>14</td>\n      <td>20</td>\n      <td>6.8</td>\n      <td>3.4</td>\n      <td>1.00</td>\n      <td>1</td>\n    </tr>\n    <tr>\n      <th>4</th>\n      <td>72</td>\n      <td>Male</td>\n      <td>3.9</td>\n      <td>2.0</td>\n      <td>195</td>\n      <td>27</td>\n      <td>59</td>\n      <td>7.3</td>\n      <td>2.4</td>\n      <td>0.40</td>\n      <td>1</td>\n    </tr>\n  </tbody>\n</table>\n</div>"
     },
     "metadata": {},
     "execution_count": 3
    }
   ],
   "source": [
    "#Carrega os dados\n",
    "dados = pd.read_csv('https://raw.githubusercontent.com/joubert-alexandrino/reconhecimento-padroes/main/indian_liver_patient.csv', sep=',')\n",
    "dados.head()"
   ]
  },
  {
   "cell_type": "code",
   "execution_count": 4,
   "metadata": {},
   "outputs": [
    {
     "output_type": "execute_result",
     "data": {
      "text/plain": [
       "(583, 11)"
      ]
     },
     "metadata": {},
     "execution_count": 4
    }
   ],
   "source": [
    "dados.shape"
   ]
  },
  {
   "cell_type": "code",
   "execution_count": 5,
   "metadata": {},
   "outputs": [],
   "source": [
    "# Separa o conjunto de características do target\n",
    "X, y = dados.drop(['Dataset'], axis=1, inplace=False), dados.Dataset"
   ]
  },
  {
   "cell_type": "code",
   "execution_count": 6,
   "metadata": {},
   "outputs": [
    {
     "output_type": "execute_result",
     "data": {
      "text/plain": [
       "((583, 10), (583,))"
      ]
     },
     "metadata": {},
     "execution_count": 6
    }
   ],
   "source": [
    "# Exibe os dados particionados\n",
    "X.shape, y.shape"
   ]
  },
  {
   "cell_type": "code",
   "execution_count": 7,
   "metadata": {},
   "outputs": [
    {
     "output_type": "execute_result",
     "data": {
      "text/plain": [
       "Age                           0\n",
       "Gender                        0\n",
       "Total_Bilirubin               0\n",
       "Direct_Bilirubin              0\n",
       "Alkaline_Phosphotase          0\n",
       "Alamine_Aminotransferase      0\n",
       "Aspartate_Aminotransferase    0\n",
       "Total_Protiens                0\n",
       "Albumin                       0\n",
       "Albumin_and_Globulin_Ratio    4\n",
       "dtype: int64"
      ]
     },
     "metadata": {},
     "execution_count": 7
    }
   ],
   "source": [
    "# Verifica se existem dados vazios\n",
    "X.isnull().sum()"
   ]
  },
  {
   "source": [
    "### Define os parâmtros gerais para as abordagens escolhidas: com padronização dos dados e sem padronização dos dados"
   ],
   "cell_type": "markdown",
   "metadata": {}
  },
  {
   "cell_type": "code",
   "execution_count": 8,
   "metadata": {},
   "outputs": [],
   "source": [
    "# Define os parâmetros gerais\n",
    "\n",
    "# Número de rodadas\n",
    "rodadas = 10\n",
    "\n",
    "# Número de Folds\n",
    "nfolds = 5\n",
    "\n",
    "# Número de classificadores\n",
    "nclfs = 2\n",
    "\n",
    "# Matriz de desempenho\n",
    "desempenho = np.empty((rodadas, nclfs))\n",
    "desempenho2 = np.empty((rodadas, nclfs))\n",
    "\n",
    "# Define os random states\n",
    "rstates = np.arange(10)"
   ]
  },
  {
   "source": [
    "### Abordagem 1: com padronização dos dados (StandardScaler)"
   ],
   "cell_type": "markdown",
   "metadata": {}
  },
  {
   "cell_type": "code",
   "execution_count": 9,
   "metadata": {
    "tags": []
   },
   "outputs": [],
   "source": [
    "# Iterage para cada uma das rodadas\n",
    "for i in range(rodadas):\n",
    "\n",
    "    # KFolds para loops externo e interno\n",
    "\n",
    "    kfe = KFold(n_splits = nfolds,   shuffle=True, random_state=rstates[i])\n",
    "    kfi = KFold(n_splits = nfolds-1, shuffle=True, random_state=rstates[i])\n",
    "\n",
    "    ########################\n",
    "    # Logistic Regression\n",
    "    ########################\n",
    "    pip_lr = Pipeline([\n",
    "        ('trata-valores-categoricos', OneHotEncoder(use_cat_names=True)), \n",
    "        ('trata-valores-nan', SimpleImputer(strategy='mean')),    \n",
    "        ('faz-a-padronizacao', StandardScaler()),\n",
    "        ('lr', LogisticRegression())\n",
    "        ])\n",
    "\n",
    "    # Define os parâmetros para uso do modelo: Logistic Regression\n",
    "    params_lr = {'lr__solver':['newton-cg', 'lbfgs', 'liblinear', 'sag', 'saga']}\n",
    "\n",
    "    # Cria o modelo\n",
    "    modelo_lr = GridSearchCV(pip_lr, params_lr, scoring='accuracy', cv=kfi)\n",
    "\n",
    "    # Faz a validação cruzada aninhada\n",
    "    scores_lr = cross_validate(modelo_lr, X, y, scoring='accuracy', cv=kfe)\n",
    "\n",
    "    ########################\n",
    "    # KNeighbors Classifier\n",
    "    ########################\n",
    "    pip_knn = Pipeline([\n",
    "        ('trata-valores-categoricos', OneHotEncoder(use_cat_names=True)), \n",
    "        ('trata-valores-nan', SimpleImputer(strategy='mean')),    \n",
    "        ('faz-a-padronizacao', StandardScaler()),\n",
    "        ('knn', KNeighborsClassifier())\n",
    "        ])\n",
    "\n",
    "    # Define os parâmtros para uso do modelo: Logistic Regression\n",
    "    params_knn = {'knn__n_neighbors':[3,5,7]}\n",
    "\n",
    "    # Cria o modelo\n",
    "    modelo_knn = GridSearchCV(pip_knn, params_knn, scoring='accuracy', cv=kfi)\n",
    "\n",
    "    # Faz a validação cruzada aninhada\n",
    "    scores_knn = cross_validate(modelo_knn, X, y, scoring='accuracy', cv=kfe)\n",
    "\n",
    "    # Armazena os dados da rodada\n",
    "    desempenho[i,0], desempenho[i,1] = np.mean(scores_lr['test_score']), np.mean(scores_knn['test_score'])    "
   ]
  },
  {
   "source": [
    "### Exibe os resultados da abordagem 1 por rodada"
   ],
   "cell_type": "markdown",
   "metadata": {}
  },
  {
   "cell_type": "code",
   "execution_count": 10,
   "metadata": {},
   "outputs": [
    {
     "output_type": "execute_result",
     "data": {
      "text/plain": [
       "           Logistic Regression (Acurácia)  KNeighbors Classifier(Acurácia)  \\\n",
       "Rodada 1                         0.723814                         0.672384   \n",
       "Rodada 2                         0.717006                         0.658680   \n",
       "Rodada 3                         0.710080                         0.644916   \n",
       "Rodada 4                         0.711804                         0.653596   \n",
       "Rodada 5                         0.717006                         0.658665   \n",
       "Rodada 6                         0.713690                         0.639847   \n",
       "Rodada 7                         0.717006                         0.651813   \n",
       "Rodada 8                         0.720410                         0.646714   \n",
       "Rodada 9                         0.698084                         0.657073   \n",
       "Rodada 10                        0.713469                         0.679310   \n",
       "\n",
       "           LR >= KNN?  KNN > LR  \n",
       "Rodada 1          1.0       0.0  \n",
       "Rodada 2          1.0       0.0  \n",
       "Rodada 3          1.0       0.0  \n",
       "Rodada 4          1.0       0.0  \n",
       "Rodada 5          1.0       0.0  \n",
       "Rodada 6          1.0       0.0  \n",
       "Rodada 7          1.0       0.0  \n",
       "Rodada 8          1.0       0.0  \n",
       "Rodada 9          1.0       0.0  \n",
       "Rodada 10         1.0       0.0  "
      ],
      "text/html": "<div>\n<style scoped>\n    .dataframe tbody tr th:only-of-type {\n        vertical-align: middle;\n    }\n\n    .dataframe tbody tr th {\n        vertical-align: top;\n    }\n\n    .dataframe thead th {\n        text-align: right;\n    }\n</style>\n<table border=\"1\" class=\"dataframe\">\n  <thead>\n    <tr style=\"text-align: right;\">\n      <th></th>\n      <th>Logistic Regression (Acurácia)</th>\n      <th>KNeighbors Classifier(Acurácia)</th>\n      <th>LR &gt;= KNN?</th>\n      <th>KNN &gt; LR</th>\n    </tr>\n  </thead>\n  <tbody>\n    <tr>\n      <th>Rodada 1</th>\n      <td>0.723814</td>\n      <td>0.672384</td>\n      <td>1.0</td>\n      <td>0.0</td>\n    </tr>\n    <tr>\n      <th>Rodada 2</th>\n      <td>0.717006</td>\n      <td>0.658680</td>\n      <td>1.0</td>\n      <td>0.0</td>\n    </tr>\n    <tr>\n      <th>Rodada 3</th>\n      <td>0.710080</td>\n      <td>0.644916</td>\n      <td>1.0</td>\n      <td>0.0</td>\n    </tr>\n    <tr>\n      <th>Rodada 4</th>\n      <td>0.711804</td>\n      <td>0.653596</td>\n      <td>1.0</td>\n      <td>0.0</td>\n    </tr>\n    <tr>\n      <th>Rodada 5</th>\n      <td>0.717006</td>\n      <td>0.658665</td>\n      <td>1.0</td>\n      <td>0.0</td>\n    </tr>\n    <tr>\n      <th>Rodada 6</th>\n      <td>0.713690</td>\n      <td>0.639847</td>\n      <td>1.0</td>\n      <td>0.0</td>\n    </tr>\n    <tr>\n      <th>Rodada 7</th>\n      <td>0.717006</td>\n      <td>0.651813</td>\n      <td>1.0</td>\n      <td>0.0</td>\n    </tr>\n    <tr>\n      <th>Rodada 8</th>\n      <td>0.720410</td>\n      <td>0.646714</td>\n      <td>1.0</td>\n      <td>0.0</td>\n    </tr>\n    <tr>\n      <th>Rodada 9</th>\n      <td>0.698084</td>\n      <td>0.657073</td>\n      <td>1.0</td>\n      <td>0.0</td>\n    </tr>\n    <tr>\n      <th>Rodada 10</th>\n      <td>0.713469</td>\n      <td>0.679310</td>\n      <td>1.0</td>\n      <td>0.0</td>\n    </tr>\n  </tbody>\n</table>\n</div>"
     },
     "metadata": {},
     "execution_count": 10
    }
   ],
   "source": [
    "# Cria o Dataframe de resultados\n",
    "novo = np.append(desempenho, (desempenho[:,0] >= desempenho[:,1]).reshape(-1,1), axis=1)\n",
    "novo = np.append(novo, (desempenho[:,0] < desempenho[:,1]).reshape(-1,1), axis=1)\n",
    "index = [f\"Rodada {i+1}\" for i in range(rodadas)]\n",
    "resultados = pd.DataFrame(data=novo, index=index, columns=['Logistic Regression (Acurácia)', 'KNeighbors Classifier(Acurácia)', 'LR >= KNN?', 'KNN > LR'])\n",
    "resultados"
   ]
  },
  {
   "source": [
    "### Exibe a média dos resultados da abordagem 1"
   ],
   "cell_type": "markdown",
   "metadata": {}
  },
  {
   "cell_type": "code",
   "execution_count": 11,
   "metadata": {},
   "outputs": [
    {
     "output_type": "execute_result",
     "data": {
      "text/plain": [
       "                                 Logistic Regression (Acurácia)  \\\n",
       "Resultado médio após 10 rodadas                        0.714237   \n",
       "\n",
       "                                 KNeighbors Classifier(Acurácia)  \n",
       "Resultado médio após 10 rodadas                           0.6563  "
      ],
      "text/html": "<div>\n<style scoped>\n    .dataframe tbody tr th:only-of-type {\n        vertical-align: middle;\n    }\n\n    .dataframe tbody tr th {\n        vertical-align: top;\n    }\n\n    .dataframe thead th {\n        text-align: right;\n    }\n</style>\n<table border=\"1\" class=\"dataframe\">\n  <thead>\n    <tr style=\"text-align: right;\">\n      <th></th>\n      <th>Logistic Regression (Acurácia)</th>\n      <th>KNeighbors Classifier(Acurácia)</th>\n    </tr>\n  </thead>\n  <tbody>\n    <tr>\n      <th>Resultado médio após 10 rodadas</th>\n      <td>0.714237</td>\n      <td>0.6563</td>\n    </tr>\n  </tbody>\n</table>\n</div>"
     },
     "metadata": {},
     "execution_count": 11
    }
   ],
   "source": [
    "media = pd.DataFrame(data=np.mean(desempenho, \n",
    "                     axis=0).reshape(-1,2), \n",
    "                     index=[f'Resultado médio após {rodadas} rodadas'], \n",
    "                     columns=['Logistic Regression (Acurácia)', 'KNeighbors Classifier(Acurácia)'])\n",
    "media"
   ]
  },
  {
   "source": [
    "### Abordagem 2: sem padronização dos dados"
   ],
   "cell_type": "markdown",
   "metadata": {}
  },
  {
   "cell_type": "code",
   "execution_count": 12,
   "metadata": {},
   "outputs": [],
   "source": [
    "# Iterage para cada uma das rodadas\n",
    "for i in range(rodadas):\n",
    "\n",
    "    # KFolds para loops externo e interno\n",
    "\n",
    "    kfe = KFold(n_splits = nfolds,   shuffle=True, random_state=rstates[i])\n",
    "    kfi = KFold(n_splits = nfolds-1, shuffle=True, random_state=rstates[i])\n",
    "\n",
    "    ########################\n",
    "    # Logistic Regression\n",
    "    ########################\n",
    "    pip_lr = Pipeline([\n",
    "        ('trata-valores-categoricos', OneHotEncoder(use_cat_names=True)), \n",
    "        ('trata-valores-nan', SimpleImputer(strategy='mean')),        \n",
    "        ('lr', LogisticRegression())\n",
    "        ])\n",
    "\n",
    "    # Define os parâmetros para uso do modelo: Logistic Regression\n",
    "    params_lr = {'lr__solver':['newton-cg', 'lbfgs', 'liblinear', 'sag', 'saga']}\n",
    "\n",
    "    # Cria o modelo\n",
    "    modelo_lr = GridSearchCV(pip_lr, params_lr, scoring='accuracy', cv=kfi)\n",
    "\n",
    "    # Faz a validação cruzada aninhada\n",
    "    scores_lr = cross_validate(modelo_lr, X, y, scoring='accuracy', cv=kfe)\n",
    "\n",
    "    ########################\n",
    "    # KNeighbors Classifier\n",
    "    ########################\n",
    "    pip_knn = Pipeline([\n",
    "        ('trata-valores-categoricos', OneHotEncoder(use_cat_names=True)), \n",
    "        ('trata-valores-nan', SimpleImputer(strategy='mean')),        \n",
    "        ('knn', KNeighborsClassifier())\n",
    "        ])\n",
    "\n",
    "    # Define os parâmtros para uso do modelo: Logistic Regression\n",
    "    params_knn = {'knn__n_neighbors':[3,5,7]}\n",
    "\n",
    "    # Cria o modelo\n",
    "    modelo_knn = GridSearchCV(pip_knn, params_knn, scoring='accuracy', cv=kfi)\n",
    "\n",
    "    # Faz a validação cruzada aninhada\n",
    "    scores_knn = cross_validate(modelo_knn, X, y, scoring='accuracy', cv=kfe)\n",
    "\n",
    "    # Armazena os dados da rodada\n",
    "    desempenho2[i,0], desempenho2[i,1] = np.mean(scores_lr['test_score']), np.mean(scores_knn['test_score'])    "
   ]
  },
  {
   "source": [
    "### Exibe os resultados da abordagem 2 por rodada"
   ],
   "cell_type": "markdown",
   "metadata": {}
  },
  {
   "cell_type": "code",
   "execution_count": 13,
   "metadata": {},
   "outputs": [
    {
     "output_type": "execute_result",
     "data": {
      "text/plain": [
       "           Logistic Regression (Acurácia)  KNeighbors Classifier(Acurácia)  \\\n",
       "Rodada 1                         0.718627                         0.679325   \n",
       "Rodada 2                         0.708429                         0.701562   \n",
       "Rodada 3                         0.701503                         0.648335   \n",
       "Rodada 4                         0.698070                         0.675818   \n",
       "Rodada 5                         0.703212                         0.689596   \n",
       "Rodada 6                         0.717065                         0.686133   \n",
       "Rodada 7                         0.701592                         0.662039   \n",
       "Rodada 8                         0.715252                         0.668980   \n",
       "Rodada 9                         0.699838                         0.662202   \n",
       "Rodada 10                        0.708296                         0.679134   \n",
       "\n",
       "           LR >= KNN?  KNN > LR  \n",
       "Rodada 1          1.0       0.0  \n",
       "Rodada 2          1.0       0.0  \n",
       "Rodada 3          1.0       0.0  \n",
       "Rodada 4          1.0       0.0  \n",
       "Rodada 5          1.0       0.0  \n",
       "Rodada 6          1.0       0.0  \n",
       "Rodada 7          1.0       0.0  \n",
       "Rodada 8          1.0       0.0  \n",
       "Rodada 9          1.0       0.0  \n",
       "Rodada 10         1.0       0.0  "
      ],
      "text/html": "<div>\n<style scoped>\n    .dataframe tbody tr th:only-of-type {\n        vertical-align: middle;\n    }\n\n    .dataframe tbody tr th {\n        vertical-align: top;\n    }\n\n    .dataframe thead th {\n        text-align: right;\n    }\n</style>\n<table border=\"1\" class=\"dataframe\">\n  <thead>\n    <tr style=\"text-align: right;\">\n      <th></th>\n      <th>Logistic Regression (Acurácia)</th>\n      <th>KNeighbors Classifier(Acurácia)</th>\n      <th>LR &gt;= KNN?</th>\n      <th>KNN &gt; LR</th>\n    </tr>\n  </thead>\n  <tbody>\n    <tr>\n      <th>Rodada 1</th>\n      <td>0.718627</td>\n      <td>0.679325</td>\n      <td>1.0</td>\n      <td>0.0</td>\n    </tr>\n    <tr>\n      <th>Rodada 2</th>\n      <td>0.708429</td>\n      <td>0.701562</td>\n      <td>1.0</td>\n      <td>0.0</td>\n    </tr>\n    <tr>\n      <th>Rodada 3</th>\n      <td>0.701503</td>\n      <td>0.648335</td>\n      <td>1.0</td>\n      <td>0.0</td>\n    </tr>\n    <tr>\n      <th>Rodada 4</th>\n      <td>0.698070</td>\n      <td>0.675818</td>\n      <td>1.0</td>\n      <td>0.0</td>\n    </tr>\n    <tr>\n      <th>Rodada 5</th>\n      <td>0.703212</td>\n      <td>0.689596</td>\n      <td>1.0</td>\n      <td>0.0</td>\n    </tr>\n    <tr>\n      <th>Rodada 6</th>\n      <td>0.717065</td>\n      <td>0.686133</td>\n      <td>1.0</td>\n      <td>0.0</td>\n    </tr>\n    <tr>\n      <th>Rodada 7</th>\n      <td>0.701592</td>\n      <td>0.662039</td>\n      <td>1.0</td>\n      <td>0.0</td>\n    </tr>\n    <tr>\n      <th>Rodada 8</th>\n      <td>0.715252</td>\n      <td>0.668980</td>\n      <td>1.0</td>\n      <td>0.0</td>\n    </tr>\n    <tr>\n      <th>Rodada 9</th>\n      <td>0.699838</td>\n      <td>0.662202</td>\n      <td>1.0</td>\n      <td>0.0</td>\n    </tr>\n    <tr>\n      <th>Rodada 10</th>\n      <td>0.708296</td>\n      <td>0.679134</td>\n      <td>1.0</td>\n      <td>0.0</td>\n    </tr>\n  </tbody>\n</table>\n</div>"
     },
     "metadata": {},
     "execution_count": 13
    }
   ],
   "source": [
    "# Cria o Dataframe de resultados\n",
    "novo2 = np.append(desempenho2, (desempenho2[:,0] >= desempenho2[:,1]).reshape(-1,1), axis=1)\n",
    "novo2 = np.append(novo2, (desempenho2[:,0] < desempenho2[:,1]).reshape(-1,1), axis=1)\n",
    "index2 = [f\"Rodada {i+1}\" for i in range(rodadas)]\n",
    "resultados2 = pd.DataFrame(data=novo2, index=index2, columns=['Logistic Regression (Acurácia)', 'KNeighbors Classifier(Acurácia)', 'LR >= KNN?', 'KNN > LR'])\n",
    "resultados2"
   ]
  },
  {
   "source": [
    "### Exibe a média dos resultados da abordagem 2"
   ],
   "cell_type": "markdown",
   "metadata": {}
  },
  {
   "cell_type": "code",
   "execution_count": 14,
   "metadata": {},
   "outputs": [
    {
     "output_type": "execute_result",
     "data": {
      "text/plain": [
       "                                 Logistic Regression (Acurácia)  \\\n",
       "Resultado médio após 10 rodadas                        0.707188   \n",
       "\n",
       "                                 KNeighbors Classifier(Acurácia)  \n",
       "Resultado médio após 10 rodadas                         0.675312  "
      ],
      "text/html": "<div>\n<style scoped>\n    .dataframe tbody tr th:only-of-type {\n        vertical-align: middle;\n    }\n\n    .dataframe tbody tr th {\n        vertical-align: top;\n    }\n\n    .dataframe thead th {\n        text-align: right;\n    }\n</style>\n<table border=\"1\" class=\"dataframe\">\n  <thead>\n    <tr style=\"text-align: right;\">\n      <th></th>\n      <th>Logistic Regression (Acurácia)</th>\n      <th>KNeighbors Classifier(Acurácia)</th>\n    </tr>\n  </thead>\n  <tbody>\n    <tr>\n      <th>Resultado médio após 10 rodadas</th>\n      <td>0.707188</td>\n      <td>0.675312</td>\n    </tr>\n  </tbody>\n</table>\n</div>"
     },
     "metadata": {},
     "execution_count": 14
    }
   ],
   "source": [
    "media2 = pd.DataFrame(data=np.mean(desempenho2, \n",
    "                     axis=0).reshape(-1,2), \n",
    "                     index=[f'Resultado médio após {rodadas} rodadas'], \n",
    "                     columns=['Logistic Regression (Acurácia)', 'KNeighbors Classifier(Acurácia)'])\n",
    "media2"
   ]
  },
  {
   "source": [
    "### Exibe as médias de resultados das duas abordagens"
   ],
   "cell_type": "markdown",
   "metadata": {}
  },
  {
   "cell_type": "code",
   "execution_count": 17,
   "metadata": {},
   "outputs": [
    {
     "output_type": "execute_result",
     "data": {
      "text/plain": [
       "                                                     Logistic Regression (Acurácia)  \\\n",
       "Com padronização -  Resultado médio após 10 rodadas                        0.714237   \n",
       "Sem padronização -  Resultado médio após 10 rodadas                        0.707188   \n",
       "\n",
       "                                                     KNeighbors Classifier(Acurácia)  \n",
       "Com padronização -  Resultado médio após 10 rodadas                         0.656300  \n",
       "Sem padronização -  Resultado médio após 10 rodadas                         0.675312  "
      ],
      "text/html": "<div>\n<style scoped>\n    .dataframe tbody tr th:only-of-type {\n        vertical-align: middle;\n    }\n\n    .dataframe tbody tr th {\n        vertical-align: top;\n    }\n\n    .dataframe thead th {\n        text-align: right;\n    }\n</style>\n<table border=\"1\" class=\"dataframe\">\n  <thead>\n    <tr style=\"text-align: right;\">\n      <th></th>\n      <th></th>\n      <th>Logistic Regression (Acurácia)</th>\n      <th>KNeighbors Classifier(Acurácia)</th>\n    </tr>\n  </thead>\n  <tbody>\n    <tr>\n      <th>Com padronização -</th>\n      <th>Resultado médio após 10 rodadas</th>\n      <td>0.714237</td>\n      <td>0.656300</td>\n    </tr>\n    <tr>\n      <th>Sem padronização -</th>\n      <th>Resultado médio após 10 rodadas</th>\n      <td>0.707188</td>\n      <td>0.675312</td>\n    </tr>\n  </tbody>\n</table>\n</div>"
     },
     "metadata": {},
     "execution_count": 17
    }
   ],
   "source": [
    "mmedias = pd.concat([media, media2], keys=[f\"Com padronização - \", f\"Sem padronização - \"])\n",
    "mmedias"
   ]
  },
  {
   "source": [
    "### Conclusão\n",
    "\n",
    "Para as das abordagens, com e sem padronização, o classificador Logistic Regression obteve melhores acurácias médias."
   ],
   "cell_type": "markdown",
   "metadata": {}
  }
 ]
}