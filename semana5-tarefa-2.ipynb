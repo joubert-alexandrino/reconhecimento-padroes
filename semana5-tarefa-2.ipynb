{
 "metadata": {
  "language_info": {
   "codemirror_mode": {
    "name": "ipython",
    "version": 3
   },
   "file_extension": ".py",
   "mimetype": "text/x-python",
   "name": "python",
   "nbconvert_exporter": "python",
   "pygments_lexer": "ipython3",
   "version": "3.8.5-final"
  },
  "orig_nbformat": 2,
  "kernelspec": {
   "name": "python3",
   "display_name": "Python 3.8.5 64-bit ('base': conda)",
   "metadata": {
    "interpreter": {
     "hash": "cee74f96bb50cbf6e155c365264ac74cf0558e69aeabde359f1ee765503e289b"
    }
   }
  }
 },
 "nbformat": 4,
 "nbformat_minor": 2,
 "cells": [
  {
   "source": [
    "@author Joubert Alexandrino de Souza\n",
    "@version 2021-02-26\n",
    "\n",
    "-----------------------------------------------\n",
    "# Submeter uma predição no Kaggle\n",
    "-----------------------------------------------"
   ],
   "cell_type": "markdown",
   "metadata": {}
  },
  {
   "source": [
    "### Para fazer esta atividade você precisará assistir o vídeo https://youtu.be/j8-dT-OoYFs.\n",
    "\n",
    "### Depois você precisará submeter uma predição no Kaggle e salvar a página de submissão em PDF.\n",
    "\n",
    "### Salve o PDF no seu GitHub e coloque o link para entregar a atividade.\n",
    "\n",
    "### A sua nota será o score multiplicado por 100."
   ],
   "cell_type": "markdown",
   "metadata": {}
  },
  {
   "cell_type": "code",
   "execution_count": 83,
   "metadata": {},
   "outputs": [],
   "source": [
    "# Importa as bibliotecas necessárias\n",
    "import pandas as pd\n",
    "import numpy as np\n",
    "from sklearn.base import BaseEstimator, TransformerMixin\n",
    "from sklearn.preprocessing import OneHotEncoder\n",
    "from sklearn.pipeline import Pipeline\n",
    "from sklearn.impute import SimpleImputer\n",
    "from sklearn.preprocessing import StandardScaler\n",
    "from sklearn.pipeline import FeatureUnion\n",
    "from sklearn.metrics import accuracy_score\n",
    "from sklearn.model_selection import cross_validate\n",
    "from sklearn.model_selection import GridSearchCV\n",
    "from sklearn.tree import DecisionTreeClassifier\n",
    "from sklearn.neighbors import KNeighborsClassifier\n",
    "\n",
    "%matplotlib inline"
   ]
  },
  {
   "source": [
    "## Realiza a leitura e visualização dos dados"
   ],
   "cell_type": "markdown",
   "metadata": {}
  },
  {
   "cell_type": "code",
   "execution_count": 84,
   "metadata": {},
   "outputs": [
    {
     "output_type": "execute_result",
     "data": {
      "text/plain": [
       "   PassengerId  Survived  Pclass  \\\n",
       "0            1         0       3   \n",
       "1            2         1       1   \n",
       "2            3         1       3   \n",
       "3            4         1       1   \n",
       "4            5         0       3   \n",
       "\n",
       "                                                Name     Sex   Age  SibSp  \\\n",
       "0                            Braund, Mr. Owen Harris    male  22.0      1   \n",
       "1  Cumings, Mrs. John Bradley (Florence Briggs Th...  female  38.0      1   \n",
       "2                             Heikkinen, Miss. Laina  female  26.0      0   \n",
       "3       Futrelle, Mrs. Jacques Heath (Lily May Peel)  female  35.0      1   \n",
       "4                           Allen, Mr. William Henry    male  35.0      0   \n",
       "\n",
       "   Parch            Ticket     Fare Cabin Embarked  \n",
       "0      0         A/5 21171   7.2500   NaN        S  \n",
       "1      0          PC 17599  71.2833   C85        C  \n",
       "2      0  STON/O2. 3101282   7.9250   NaN        S  \n",
       "3      0            113803  53.1000  C123        S  \n",
       "4      0            373450   8.0500   NaN        S  "
      ],
      "text/html": "<div>\n<style scoped>\n    .dataframe tbody tr th:only-of-type {\n        vertical-align: middle;\n    }\n\n    .dataframe tbody tr th {\n        vertical-align: top;\n    }\n\n    .dataframe thead th {\n        text-align: right;\n    }\n</style>\n<table border=\"1\" class=\"dataframe\">\n  <thead>\n    <tr style=\"text-align: right;\">\n      <th></th>\n      <th>PassengerId</th>\n      <th>Survived</th>\n      <th>Pclass</th>\n      <th>Name</th>\n      <th>Sex</th>\n      <th>Age</th>\n      <th>SibSp</th>\n      <th>Parch</th>\n      <th>Ticket</th>\n      <th>Fare</th>\n      <th>Cabin</th>\n      <th>Embarked</th>\n    </tr>\n  </thead>\n  <tbody>\n    <tr>\n      <th>0</th>\n      <td>1</td>\n      <td>0</td>\n      <td>3</td>\n      <td>Braund, Mr. Owen Harris</td>\n      <td>male</td>\n      <td>22.0</td>\n      <td>1</td>\n      <td>0</td>\n      <td>A/5 21171</td>\n      <td>7.2500</td>\n      <td>NaN</td>\n      <td>S</td>\n    </tr>\n    <tr>\n      <th>1</th>\n      <td>2</td>\n      <td>1</td>\n      <td>1</td>\n      <td>Cumings, Mrs. John Bradley (Florence Briggs Th...</td>\n      <td>female</td>\n      <td>38.0</td>\n      <td>1</td>\n      <td>0</td>\n      <td>PC 17599</td>\n      <td>71.2833</td>\n      <td>C85</td>\n      <td>C</td>\n    </tr>\n    <tr>\n      <th>2</th>\n      <td>3</td>\n      <td>1</td>\n      <td>3</td>\n      <td>Heikkinen, Miss. Laina</td>\n      <td>female</td>\n      <td>26.0</td>\n      <td>0</td>\n      <td>0</td>\n      <td>STON/O2. 3101282</td>\n      <td>7.9250</td>\n      <td>NaN</td>\n      <td>S</td>\n    </tr>\n    <tr>\n      <th>3</th>\n      <td>4</td>\n      <td>1</td>\n      <td>1</td>\n      <td>Futrelle, Mrs. Jacques Heath (Lily May Peel)</td>\n      <td>female</td>\n      <td>35.0</td>\n      <td>1</td>\n      <td>0</td>\n      <td>113803</td>\n      <td>53.1000</td>\n      <td>C123</td>\n      <td>S</td>\n    </tr>\n    <tr>\n      <th>4</th>\n      <td>5</td>\n      <td>0</td>\n      <td>3</td>\n      <td>Allen, Mr. William Henry</td>\n      <td>male</td>\n      <td>35.0</td>\n      <td>0</td>\n      <td>0</td>\n      <td>373450</td>\n      <td>8.0500</td>\n      <td>NaN</td>\n      <td>S</td>\n    </tr>\n  </tbody>\n</table>\n</div>"
     },
     "metadata": {},
     "execution_count": 84
    }
   ],
   "source": [
    "dados = pd.read_csv(\"https://raw.githubusercontent.com/joubert-alexandrino/reconhecimento-padroes/main/titanic-train.csv\")\n",
    "dados.head()"
   ]
  },
  {
   "source": [
    "# Tamanho do dataset\n",
    "dados.shape"
   ],
   "cell_type": "code",
   "metadata": {},
   "execution_count": 85,
   "outputs": [
    {
     "output_type": "execute_result",
     "data": {
      "text/plain": [
       "(891, 12)"
      ]
     },
     "metadata": {},
     "execution_count": 85
    }
   ]
  },
  {
   "cell_type": "code",
   "execution_count": 86,
   "metadata": {},
   "outputs": [
    {
     "output_type": "execute_result",
     "data": {
      "text/plain": [
       "PassengerId      int64\n",
       "Survived         int64\n",
       "Pclass           int64\n",
       "Name            object\n",
       "Sex             object\n",
       "Age            float64\n",
       "SibSp            int64\n",
       "Parch            int64\n",
       "Ticket          object\n",
       "Fare           float64\n",
       "Cabin           object\n",
       "Embarked        object\n",
       "dtype: object"
      ]
     },
     "metadata": {},
     "execution_count": 86
    }
   ],
   "source": [
    "# Verifica os tipo de dados do dataset\n",
    "dados.dtypes"
   ]
  },
  {
   "cell_type": "code",
   "execution_count": 87,
   "metadata": {},
   "outputs": [
    {
     "output_type": "execute_result",
     "data": {
      "text/plain": [
       "PassengerId      0\n",
       "Survived         0\n",
       "Pclass           0\n",
       "Name             0\n",
       "Sex              0\n",
       "Age            177\n",
       "SibSp            0\n",
       "Parch            0\n",
       "Ticket           0\n",
       "Fare             0\n",
       "Cabin          687\n",
       "Embarked         2\n",
       "dtype: int64"
      ]
     },
     "metadata": {},
     "execution_count": 87
    }
   ],
   "source": [
    "# Verifica se existem dados nulos\n",
    "dados.isnull().sum()"
   ]
  },
  {
   "cell_type": "code",
   "execution_count": 88,
   "metadata": {},
   "outputs": [
    {
     "output_type": "execute_result",
     "data": {
      "text/plain": [
       "PassengerId      0\n",
       "Survived         0\n",
       "Pclass           0\n",
       "Name             0\n",
       "Sex              0\n",
       "Age            177\n",
       "SibSp            0\n",
       "Parch            0\n",
       "Ticket           0\n",
       "Fare             0\n",
       "Cabin          687\n",
       "Embarked         2\n",
       "dtype: int64"
      ]
     },
     "metadata": {},
     "execution_count": 88
    }
   ],
   "source": [
    "# Verifica se existem dados NA\n",
    "dados.isna().sum()"
   ]
  },
  {
   "cell_type": "code",
   "execution_count": 89,
   "metadata": {},
   "outputs": [
    {
     "output_type": "execute_result",
     "data": {
      "text/plain": [
       "       PassengerId  Survived  Pclass     Age   SibSp   Parch    Fare\n",
       "count       891.00    891.00  891.00  714.00  891.00  891.00  891.00\n",
       "mean        446.00      0.38    2.31   29.70    0.52    0.38   32.20\n",
       "std         257.35      0.49    0.84   14.53    1.10    0.81   49.69\n",
       "min           1.00      0.00    1.00    0.42    0.00    0.00    0.00\n",
       "25%         223.50      0.00    2.00   20.12    0.00    0.00    7.91\n",
       "50%         446.00      0.00    3.00   28.00    0.00    0.00   14.45\n",
       "75%         668.50      1.00    3.00   38.00    1.00    0.00   31.00\n",
       "max         891.00      1.00    3.00   80.00    8.00    6.00  512.33"
      ],
      "text/html": "<div>\n<style scoped>\n    .dataframe tbody tr th:only-of-type {\n        vertical-align: middle;\n    }\n\n    .dataframe tbody tr th {\n        vertical-align: top;\n    }\n\n    .dataframe thead th {\n        text-align: right;\n    }\n</style>\n<table border=\"1\" class=\"dataframe\">\n  <thead>\n    <tr style=\"text-align: right;\">\n      <th></th>\n      <th>PassengerId</th>\n      <th>Survived</th>\n      <th>Pclass</th>\n      <th>Age</th>\n      <th>SibSp</th>\n      <th>Parch</th>\n      <th>Fare</th>\n    </tr>\n  </thead>\n  <tbody>\n    <tr>\n      <th>count</th>\n      <td>891.00</td>\n      <td>891.00</td>\n      <td>891.00</td>\n      <td>714.00</td>\n      <td>891.00</td>\n      <td>891.00</td>\n      <td>891.00</td>\n    </tr>\n    <tr>\n      <th>mean</th>\n      <td>446.00</td>\n      <td>0.38</td>\n      <td>2.31</td>\n      <td>29.70</td>\n      <td>0.52</td>\n      <td>0.38</td>\n      <td>32.20</td>\n    </tr>\n    <tr>\n      <th>std</th>\n      <td>257.35</td>\n      <td>0.49</td>\n      <td>0.84</td>\n      <td>14.53</td>\n      <td>1.10</td>\n      <td>0.81</td>\n      <td>49.69</td>\n    </tr>\n    <tr>\n      <th>min</th>\n      <td>1.00</td>\n      <td>0.00</td>\n      <td>1.00</td>\n      <td>0.42</td>\n      <td>0.00</td>\n      <td>0.00</td>\n      <td>0.00</td>\n    </tr>\n    <tr>\n      <th>25%</th>\n      <td>223.50</td>\n      <td>0.00</td>\n      <td>2.00</td>\n      <td>20.12</td>\n      <td>0.00</td>\n      <td>0.00</td>\n      <td>7.91</td>\n    </tr>\n    <tr>\n      <th>50%</th>\n      <td>446.00</td>\n      <td>0.00</td>\n      <td>3.00</td>\n      <td>28.00</td>\n      <td>0.00</td>\n      <td>0.00</td>\n      <td>14.45</td>\n    </tr>\n    <tr>\n      <th>75%</th>\n      <td>668.50</td>\n      <td>1.00</td>\n      <td>3.00</td>\n      <td>38.00</td>\n      <td>1.00</td>\n      <td>0.00</td>\n      <td>31.00</td>\n    </tr>\n    <tr>\n      <th>max</th>\n      <td>891.00</td>\n      <td>1.00</td>\n      <td>3.00</td>\n      <td>80.00</td>\n      <td>8.00</td>\n      <td>6.00</td>\n      <td>512.33</td>\n    </tr>\n  </tbody>\n</table>\n</div>"
     },
     "metadata": {},
     "execution_count": 89
    }
   ],
   "source": [
    "# Estatísticas descritivas do dataset\n",
    "dados.describe().round(2)"
   ]
  },
  {
   "cell_type": "code",
   "execution_count": 90,
   "metadata": {},
   "outputs": [
    {
     "output_type": "execute_result",
     "data": {
      "text/plain": [
       "             PassengerId  Survived  Pclass   Age  SibSp  Parch  Fare\n",
       "PassengerId         1.00     -0.01   -0.04  0.04  -0.06  -0.00  0.01\n",
       "Survived           -0.01      1.00   -0.34 -0.08  -0.04   0.08  0.26\n",
       "Pclass             -0.04     -0.34    1.00 -0.37   0.08   0.02 -0.55\n",
       "Age                 0.04     -0.08   -0.37  1.00  -0.31  -0.19  0.10\n",
       "SibSp              -0.06     -0.04    0.08 -0.31   1.00   0.41  0.16\n",
       "Parch              -0.00      0.08    0.02 -0.19   0.41   1.00  0.22\n",
       "Fare                0.01      0.26   -0.55  0.10   0.16   0.22  1.00"
      ],
      "text/html": "<div>\n<style scoped>\n    .dataframe tbody tr th:only-of-type {\n        vertical-align: middle;\n    }\n\n    .dataframe tbody tr th {\n        vertical-align: top;\n    }\n\n    .dataframe thead th {\n        text-align: right;\n    }\n</style>\n<table border=\"1\" class=\"dataframe\">\n  <thead>\n    <tr style=\"text-align: right;\">\n      <th></th>\n      <th>PassengerId</th>\n      <th>Survived</th>\n      <th>Pclass</th>\n      <th>Age</th>\n      <th>SibSp</th>\n      <th>Parch</th>\n      <th>Fare</th>\n    </tr>\n  </thead>\n  <tbody>\n    <tr>\n      <th>PassengerId</th>\n      <td>1.00</td>\n      <td>-0.01</td>\n      <td>-0.04</td>\n      <td>0.04</td>\n      <td>-0.06</td>\n      <td>-0.00</td>\n      <td>0.01</td>\n    </tr>\n    <tr>\n      <th>Survived</th>\n      <td>-0.01</td>\n      <td>1.00</td>\n      <td>-0.34</td>\n      <td>-0.08</td>\n      <td>-0.04</td>\n      <td>0.08</td>\n      <td>0.26</td>\n    </tr>\n    <tr>\n      <th>Pclass</th>\n      <td>-0.04</td>\n      <td>-0.34</td>\n      <td>1.00</td>\n      <td>-0.37</td>\n      <td>0.08</td>\n      <td>0.02</td>\n      <td>-0.55</td>\n    </tr>\n    <tr>\n      <th>Age</th>\n      <td>0.04</td>\n      <td>-0.08</td>\n      <td>-0.37</td>\n      <td>1.00</td>\n      <td>-0.31</td>\n      <td>-0.19</td>\n      <td>0.10</td>\n    </tr>\n    <tr>\n      <th>SibSp</th>\n      <td>-0.06</td>\n      <td>-0.04</td>\n      <td>0.08</td>\n      <td>-0.31</td>\n      <td>1.00</td>\n      <td>0.41</td>\n      <td>0.16</td>\n    </tr>\n    <tr>\n      <th>Parch</th>\n      <td>-0.00</td>\n      <td>0.08</td>\n      <td>0.02</td>\n      <td>-0.19</td>\n      <td>0.41</td>\n      <td>1.00</td>\n      <td>0.22</td>\n    </tr>\n    <tr>\n      <th>Fare</th>\n      <td>0.01</td>\n      <td>0.26</td>\n      <td>-0.55</td>\n      <td>0.10</td>\n      <td>0.16</td>\n      <td>0.22</td>\n      <td>1.00</td>\n    </tr>\n  </tbody>\n</table>\n</div>"
     },
     "metadata": {},
     "execution_count": 90
    }
   ],
   "source": [
    "# Matriz de correlação\n",
    "dados.corr().round(2)"
   ]
  },
  {
   "source": [
    "## Inicia o processamento dos dados"
   ],
   "cell_type": "markdown",
   "metadata": {}
  },
  {
   "cell_type": "code",
   "execution_count": 91,
   "metadata": {},
   "outputs": [
    {
     "output_type": "execute_result",
     "data": {
      "text/plain": [
       "((891, 11), (891,))"
      ]
     },
     "metadata": {},
     "execution_count": 91
    }
   ],
   "source": [
    "# Separa o conjunto de características do target\n",
    "X, y = dados.drop(['Survived'], axis=1, inplace=False), dados.Survived\n",
    "X.shape, y.shape"
   ]
  },
  {
   "cell_type": "code",
   "execution_count": 92,
   "metadata": {},
   "outputs": [],
   "source": [
    "# Configura as classes para serem usadas nos Pipelines\n",
    "\n",
    "class AtributosDesejados(BaseEstimator, TransformerMixin):\n",
    "    \n",
    "    def fit(self, X, y=None):\n",
    "        self.colunasIndesejadas = ['PassengerId', 'Name', 'Ticket', 'Cabin']\n",
    "        return self\n",
    "\n",
    "    def transform(self, X, y=None):\n",
    "        return X.drop(self.colunasIndesejadas, axis=1)\n",
    "\n",
    "class AtributosNumericos(BaseEstimator, TransformerMixin):\n",
    "    \n",
    "    def fit(self, X, y=None):\n",
    "        self.colunasNumericas = X.select_dtypes(include='number').columns\n",
    "        return self\n",
    "    \n",
    "    def transform(self, X, y=None):\n",
    "        return X[self.colunasNumericas]\n",
    "\n",
    "class AtributosCategoricos(BaseEstimator, TransformerMixin):\n",
    "\n",
    "    def fit(self, X, y=None):\n",
    "        self.colunasCategoricas = X.select_dtypes(include='object').columns\n",
    "        return self\n",
    "\n",
    "    def transform(self, X, y=None):\n",
    "        return X[self.colunasCategoricas]"
   ]
  },
  {
   "cell_type": "code",
   "execution_count": 93,
   "metadata": {},
   "outputs": [],
   "source": [
    "# Conigura os Pipelines\n",
    "\n",
    "# Dados Numéricos\n",
    "pipenum = Pipeline([\n",
    "    ('atributos_numericos', AtributosNumericos()),\n",
    "    ('imputer', SimpleImputer(strategy='median')),\n",
    "    ('scaler', StandardScaler())\n",
    "])\n",
    "\n",
    "# Dados Categoricos\n",
    "pipecat = Pipeline([\n",
    "    ('atributos_categoricos', AtributosCategoricos()),\n",
    "    ('imputer', SimpleImputer(strategy='most_frequent')),\n",
    "    ('encoder', OneHotEncoder())\n",
    "])\n",
    "\n",
    "# Unir as características\n",
    "unecaracteristicas = FeatureUnion([\n",
    "    ('pipenum', pipenum),\n",
    "    ('pipecat',pipecat)\n",
    "])\n",
    "\n",
    "# Pré-processamento\n",
    "preproc = Pipeline([\n",
    "    ('atributos_desejados', AtributosDesejados()),\n",
    "    ('unecaracteristicas', unecaracteristicas)\n",
    "])\n",
    "\n",
    "# Total\n",
    "pipetotal = Pipeline([\n",
    "    ('preproc', preproc),    \n",
    "    ('knn', KNeighborsClassifier())\n",
    "])"
   ]
  },
  {
   "cell_type": "code",
   "execution_count": 94,
   "metadata": {},
   "outputs": [
    {
     "output_type": "execute_result",
     "data": {
      "text/plain": [
       "({'fit_time': array([3.06972098, 3.00551462, 3.00085258, 3.67272282, 4.23406959]),\n",
       "  'score_time': array([0.01322508, 0.01328659, 0.0122447 , 0.01979923, 0.01560473]),\n",
       "  'estimator': (GridSearchCV(estimator=Pipeline(steps=[('preproc',\n",
       "                                           Pipeline(steps=[('atributos_desejados',\n",
       "                                                            AtributosDesejados()),\n",
       "                                                           ('unecaracteristicas',\n",
       "                                                            FeatureUnion(transformer_list=[('pipenum',\n",
       "                                                                                            Pipeline(steps=[('atributos_numericos',\n",
       "                                                                                                             AtributosNumericos()),\n",
       "                                                                                                            ('imputer',\n",
       "                                                                                                             SimpleImputer(strategy='median')),\n",
       "                                                                                                            ('scaler',\n",
       "                                                                                                             StandardScaler())])),\n",
       "                                                                                           ('pipecat',\n",
       "                                                                                            Pipeline(steps=[('atributos_categoricos',\n",
       "                                                                                                             AtributosCategoricos()),\n",
       "                                                                                                            ('imputer',\n",
       "                                                                                                             SimpleImputer(strategy='most_frequent')),\n",
       "                                                                                                            ('encoder',\n",
       "                                                                                                             OneHotEncoder())]))]))])),\n",
       "                                          ('knn', KNeighborsClassifier())]),\n",
       "                param_grid={'knn__n_neighbors': [3, 5, 7], 'knn__p': [1, 2],\n",
       "                            'knn__weights': ['uniform', 'distance']},\n",
       "                return_train_score=True),\n",
       "   GridSearchCV(estimator=Pipeline(steps=[('preproc',\n",
       "                                           Pipeline(steps=[('atributos_desejados',\n",
       "                                                            AtributosDesejados()),\n",
       "                                                           ('unecaracteristicas',\n",
       "                                                            FeatureUnion(transformer_list=[('pipenum',\n",
       "                                                                                            Pipeline(steps=[('atributos_numericos',\n",
       "                                                                                                             AtributosNumericos()),\n",
       "                                                                                                            ('imputer',\n",
       "                                                                                                             SimpleImputer(strategy='median')),\n",
       "                                                                                                            ('scaler',\n",
       "                                                                                                             StandardScaler())])),\n",
       "                                                                                           ('pipecat',\n",
       "                                                                                            Pipeline(steps=[('atributos_categoricos',\n",
       "                                                                                                             AtributosCategoricos()),\n",
       "                                                                                                            ('imputer',\n",
       "                                                                                                             SimpleImputer(strategy='most_frequent')),\n",
       "                                                                                                            ('encoder',\n",
       "                                                                                                             OneHotEncoder())]))]))])),\n",
       "                                          ('knn', KNeighborsClassifier())]),\n",
       "                param_grid={'knn__n_neighbors': [3, 5, 7], 'knn__p': [1, 2],\n",
       "                            'knn__weights': ['uniform', 'distance']},\n",
       "                return_train_score=True),\n",
       "   GridSearchCV(estimator=Pipeline(steps=[('preproc',\n",
       "                                           Pipeline(steps=[('atributos_desejados',\n",
       "                                                            AtributosDesejados()),\n",
       "                                                           ('unecaracteristicas',\n",
       "                                                            FeatureUnion(transformer_list=[('pipenum',\n",
       "                                                                                            Pipeline(steps=[('atributos_numericos',\n",
       "                                                                                                             AtributosNumericos()),\n",
       "                                                                                                            ('imputer',\n",
       "                                                                                                             SimpleImputer(strategy='median')),\n",
       "                                                                                                            ('scaler',\n",
       "                                                                                                             StandardScaler())])),\n",
       "                                                                                           ('pipecat',\n",
       "                                                                                            Pipeline(steps=[('atributos_categoricos',\n",
       "                                                                                                             AtributosCategoricos()),\n",
       "                                                                                                            ('imputer',\n",
       "                                                                                                             SimpleImputer(strategy='most_frequent')),\n",
       "                                                                                                            ('encoder',\n",
       "                                                                                                             OneHotEncoder())]))]))])),\n",
       "                                          ('knn', KNeighborsClassifier())]),\n",
       "                param_grid={'knn__n_neighbors': [3, 5, 7], 'knn__p': [1, 2],\n",
       "                            'knn__weights': ['uniform', 'distance']},\n",
       "                return_train_score=True),\n",
       "   GridSearchCV(estimator=Pipeline(steps=[('preproc',\n",
       "                                           Pipeline(steps=[('atributos_desejados',\n",
       "                                                            AtributosDesejados()),\n",
       "                                                           ('unecaracteristicas',\n",
       "                                                            FeatureUnion(transformer_list=[('pipenum',\n",
       "                                                                                            Pipeline(steps=[('atributos_numericos',\n",
       "                                                                                                             AtributosNumericos()),\n",
       "                                                                                                            ('imputer',\n",
       "                                                                                                             SimpleImputer(strategy='median')),\n",
       "                                                                                                            ('scaler',\n",
       "                                                                                                             StandardScaler())])),\n",
       "                                                                                           ('pipecat',\n",
       "                                                                                            Pipeline(steps=[('atributos_categoricos',\n",
       "                                                                                                             AtributosCategoricos()),\n",
       "                                                                                                            ('imputer',\n",
       "                                                                                                             SimpleImputer(strategy='most_frequent')),\n",
       "                                                                                                            ('encoder',\n",
       "                                                                                                             OneHotEncoder())]))]))])),\n",
       "                                          ('knn', KNeighborsClassifier())]),\n",
       "                param_grid={'knn__n_neighbors': [3, 5, 7], 'knn__p': [1, 2],\n",
       "                            'knn__weights': ['uniform', 'distance']},\n",
       "                return_train_score=True),\n",
       "   GridSearchCV(estimator=Pipeline(steps=[('preproc',\n",
       "                                           Pipeline(steps=[('atributos_desejados',\n",
       "                                                            AtributosDesejados()),\n",
       "                                                           ('unecaracteristicas',\n",
       "                                                            FeatureUnion(transformer_list=[('pipenum',\n",
       "                                                                                            Pipeline(steps=[('atributos_numericos',\n",
       "                                                                                                             AtributosNumericos()),\n",
       "                                                                                                            ('imputer',\n",
       "                                                                                                             SimpleImputer(strategy='median')),\n",
       "                                                                                                            ('scaler',\n",
       "                                                                                                             StandardScaler())])),\n",
       "                                                                                           ('pipecat',\n",
       "                                                                                            Pipeline(steps=[('atributos_categoricos',\n",
       "                                                                                                             AtributosCategoricos()),\n",
       "                                                                                                            ('imputer',\n",
       "                                                                                                             SimpleImputer(strategy='most_frequent')),\n",
       "                                                                                                            ('encoder',\n",
       "                                                                                                             OneHotEncoder())]))]))])),\n",
       "                                          ('knn', KNeighborsClassifier())]),\n",
       "                param_grid={'knn__n_neighbors': [3, 5, 7], 'knn__p': [1, 2],\n",
       "                            'knn__weights': ['uniform', 'distance']},\n",
       "                return_train_score=True)),\n",
       "  'test_score': array([0.7877095 , 0.7752809 , 0.84269663, 0.81460674, 0.80898876])},\n",
       " 0.8058565061829137)"
      ]
     },
     "metadata": {},
     "execution_count": 94
    }
   ],
   "source": [
    "# Realiza a validação cruzada\n",
    "parametros = {\n",
    "    'knn__n_neighbors':[3,5,7],\n",
    "    'knn__weights': ['uniform', 'distance'],\n",
    "    'knn__p': [1,2]\n",
    "}\n",
    "\n",
    "modelo = GridSearchCV(pipetotal, param_grid=parametros, return_train_score = True)\n",
    "\n",
    "scores = cross_validate(modelo, X, y, return_estimator=True)\n",
    "\n",
    "scores, np.mean(scores['test_score'])"
   ]
  },
  {
   "cell_type": "code",
   "execution_count": 95,
   "metadata": {},
   "outputs": [
    {
     "output_type": "execute_result",
     "data": {
      "text/plain": [
       "   PassengerId  Pclass                                          Name     Sex  \\\n",
       "0          892       3                              Kelly, Mr. James    male   \n",
       "1          893       3              Wilkes, Mrs. James (Ellen Needs)  female   \n",
       "2          894       2                     Myles, Mr. Thomas Francis    male   \n",
       "3          895       3                              Wirz, Mr. Albert    male   \n",
       "4          896       3  Hirvonen, Mrs. Alexander (Helga E Lindqvist)  female   \n",
       "\n",
       "    Age  SibSp  Parch   Ticket     Fare Cabin Embarked  \n",
       "0  34.5      0      0   330911   7.8292   NaN        Q  \n",
       "1  47.0      1      0   363272   7.0000   NaN        S  \n",
       "2  62.0      0      0   240276   9.6875   NaN        Q  \n",
       "3  27.0      0      0   315154   8.6625   NaN        S  \n",
       "4  22.0      1      1  3101298  12.2875   NaN        S  "
      ],
      "text/html": "<div>\n<style scoped>\n    .dataframe tbody tr th:only-of-type {\n        vertical-align: middle;\n    }\n\n    .dataframe tbody tr th {\n        vertical-align: top;\n    }\n\n    .dataframe thead th {\n        text-align: right;\n    }\n</style>\n<table border=\"1\" class=\"dataframe\">\n  <thead>\n    <tr style=\"text-align: right;\">\n      <th></th>\n      <th>PassengerId</th>\n      <th>Pclass</th>\n      <th>Name</th>\n      <th>Sex</th>\n      <th>Age</th>\n      <th>SibSp</th>\n      <th>Parch</th>\n      <th>Ticket</th>\n      <th>Fare</th>\n      <th>Cabin</th>\n      <th>Embarked</th>\n    </tr>\n  </thead>\n  <tbody>\n    <tr>\n      <th>0</th>\n      <td>892</td>\n      <td>3</td>\n      <td>Kelly, Mr. James</td>\n      <td>male</td>\n      <td>34.5</td>\n      <td>0</td>\n      <td>0</td>\n      <td>330911</td>\n      <td>7.8292</td>\n      <td>NaN</td>\n      <td>Q</td>\n    </tr>\n    <tr>\n      <th>1</th>\n      <td>893</td>\n      <td>3</td>\n      <td>Wilkes, Mrs. James (Ellen Needs)</td>\n      <td>female</td>\n      <td>47.0</td>\n      <td>1</td>\n      <td>0</td>\n      <td>363272</td>\n      <td>7.0000</td>\n      <td>NaN</td>\n      <td>S</td>\n    </tr>\n    <tr>\n      <th>2</th>\n      <td>894</td>\n      <td>2</td>\n      <td>Myles, Mr. Thomas Francis</td>\n      <td>male</td>\n      <td>62.0</td>\n      <td>0</td>\n      <td>0</td>\n      <td>240276</td>\n      <td>9.6875</td>\n      <td>NaN</td>\n      <td>Q</td>\n    </tr>\n    <tr>\n      <th>3</th>\n      <td>895</td>\n      <td>3</td>\n      <td>Wirz, Mr. Albert</td>\n      <td>male</td>\n      <td>27.0</td>\n      <td>0</td>\n      <td>0</td>\n      <td>315154</td>\n      <td>8.6625</td>\n      <td>NaN</td>\n      <td>S</td>\n    </tr>\n    <tr>\n      <th>4</th>\n      <td>896</td>\n      <td>3</td>\n      <td>Hirvonen, Mrs. Alexander (Helga E Lindqvist)</td>\n      <td>female</td>\n      <td>22.0</td>\n      <td>1</td>\n      <td>1</td>\n      <td>3101298</td>\n      <td>12.2875</td>\n      <td>NaN</td>\n      <td>S</td>\n    </tr>\n  </tbody>\n</table>\n</div>"
     },
     "metadata": {},
     "execution_count": 95
    }
   ],
   "source": [
    "# Importa os dados de teste\n",
    "dados_teste = pd.read_csv(\"https://raw.githubusercontent.com/joubert-alexandrino/reconhecimento-padroes/main/titanic-test.csv\")\n",
    "dados_teste.head()"
   ]
  },
  {
   "cell_type": "code",
   "execution_count": 96,
   "metadata": {},
   "outputs": [
    {
     "output_type": "execute_result",
     "data": {
      "text/plain": [
       "(418, 11)"
      ]
     },
     "metadata": {},
     "execution_count": 96
    }
   ],
   "source": [
    "dados_teste.shape"
   ]
  },
  {
   "cell_type": "code",
   "execution_count": 97,
   "metadata": {},
   "outputs": [
    {
     "output_type": "execute_result",
     "data": {
      "text/plain": [
       "(418,)"
      ]
     },
     "metadata": {},
     "execution_count": 97
    }
   ],
   "source": [
    "# Realiza a predição\n",
    "melhor_classificador = scores['estimator'][np.argmax(scores['test_score'])].best_estimator_\n",
    "ypred = melhor_classificador.predict(dados_teste)\n",
    "ypred.shape"
   ]
  },
  {
   "cell_type": "code",
   "execution_count": 98,
   "metadata": {},
   "outputs": [
    {
     "output_type": "execute_result",
     "data": {
      "text/plain": [
       "array([0, 0, 0, 1, 1, 0, 1, 0, 1, 0, 0, 0, 1, 0, 1, 1, 0, 0, 0, 0, 1, 1,\n",
       "       1, 0, 1, 0, 1, 0, 1, 0, 0, 0, 1, 0, 0, 0, 0, 1, 0, 1, 0, 0, 0, 1,\n",
       "       1, 0, 0, 0, 1, 1, 0, 0, 1, 1, 0, 0, 0, 0, 0, 1, 0, 0, 0, 1, 1, 1,\n",
       "       1, 0, 0, 1, 1, 0, 0, 0, 1, 0, 0, 1, 0, 1, 1, 0, 0, 0, 0, 0, 1, 1,\n",
       "       1, 1, 0, 0, 1, 0, 0, 0, 1, 0, 1, 0, 1, 0, 0, 0, 1, 0, 0, 0, 0, 0,\n",
       "       0, 1, 1, 1, 1, 0, 0, 1, 0, 1, 1, 0, 1, 0, 0, 1, 0, 1, 0, 0, 1, 1,\n",
       "       0, 0, 0, 0, 0, 0, 1, 0, 0, 1, 0, 0, 0, 0, 0, 0, 0, 0, 1, 0, 0, 1,\n",
       "       0, 0, 1, 1, 0, 1, 1, 1, 1, 0, 0, 1, 0, 0, 1, 1, 0, 0, 0, 0, 0, 1,\n",
       "       1, 1, 1, 1, 0, 0, 1, 0, 1, 0, 1, 0, 0, 0, 0, 0, 1, 0, 1, 0, 1, 1,\n",
       "       0, 0, 1, 1, 1, 1, 0, 0, 1, 0, 1, 0, 0, 0, 0, 1, 0, 0, 1, 0, 1, 0,\n",
       "       1, 0, 1, 0, 1, 1, 0, 1, 0, 0, 0, 1, 0, 0, 0, 0, 1, 0, 1, 1, 1, 1,\n",
       "       1, 0, 0, 0, 1, 0, 1, 0, 1, 0, 0, 0, 0, 0, 0, 0, 1, 0, 0, 0, 1, 1,\n",
       "       0, 0, 0, 0, 0, 0, 1, 0, 1, 1, 0, 1, 0, 0, 0, 0, 1, 1, 1, 1, 1, 0,\n",
       "       0, 0, 0, 0, 0, 1, 0, 0, 0, 0, 1, 0, 0, 0, 0, 0, 0, 0, 1, 1, 1, 1,\n",
       "       0, 0, 0, 0, 0, 1, 1, 1, 1, 0, 1, 0, 0, 0, 0, 0, 1, 0, 1, 1, 0, 0,\n",
       "       1, 1, 0, 0, 1, 0, 0, 0, 0, 0, 0, 0, 0, 1, 0, 1, 0, 0, 0, 1, 1, 0,\n",
       "       0, 0, 1, 0, 1, 0, 0, 1, 0, 1, 1, 1, 1, 0, 0, 1, 1, 0, 0, 1, 0, 0,\n",
       "       1, 1, 0, 0, 0, 0, 0, 0, 0, 0, 0, 1, 0, 0, 0, 0, 0, 1, 1, 0, 0, 1,\n",
       "       0, 1, 0, 0, 1, 0, 1, 0, 1, 0, 0, 0, 1, 1, 1, 1, 0, 0, 1, 0, 0, 1])"
      ]
     },
     "metadata": {},
     "execution_count": 98
    }
   ],
   "source": [
    "# Exibe os resultados\n",
    "ypred"
   ]
  },
  {
   "cell_type": "code",
   "execution_count": 99,
   "metadata": {},
   "outputs": [
    {
     "output_type": "execute_result",
     "data": {
      "text/plain": [
       "0       892\n",
       "1       893\n",
       "2       894\n",
       "3       895\n",
       "4       896\n",
       "       ... \n",
       "413    1305\n",
       "414    1306\n",
       "415    1307\n",
       "416    1308\n",
       "417    1309\n",
       "Name: PassengerId, Length: 418, dtype: int64"
      ]
     },
     "metadata": {},
     "execution_count": 99
    }
   ],
   "source": [
    "dados_teste['PassengerId']"
   ]
  },
  {
   "cell_type": "code",
   "execution_count": 100,
   "metadata": {},
   "outputs": [
    {
     "output_type": "execute_result",
     "data": {
      "text/plain": [
       "   PassengerId  Survived\n",
       "0          892         0\n",
       "1          893         0\n",
       "2          894         0\n",
       "3          895         1\n",
       "4          896         1"
      ],
      "text/html": "<div>\n<style scoped>\n    .dataframe tbody tr th:only-of-type {\n        vertical-align: middle;\n    }\n\n    .dataframe tbody tr th {\n        vertical-align: top;\n    }\n\n    .dataframe thead th {\n        text-align: right;\n    }\n</style>\n<table border=\"1\" class=\"dataframe\">\n  <thead>\n    <tr style=\"text-align: right;\">\n      <th></th>\n      <th>PassengerId</th>\n      <th>Survived</th>\n    </tr>\n  </thead>\n  <tbody>\n    <tr>\n      <th>0</th>\n      <td>892</td>\n      <td>0</td>\n    </tr>\n    <tr>\n      <th>1</th>\n      <td>893</td>\n      <td>0</td>\n    </tr>\n    <tr>\n      <th>2</th>\n      <td>894</td>\n      <td>0</td>\n    </tr>\n    <tr>\n      <th>3</th>\n      <td>895</td>\n      <td>1</td>\n    </tr>\n    <tr>\n      <th>4</th>\n      <td>896</td>\n      <td>1</td>\n    </tr>\n  </tbody>\n</table>\n</div>"
     },
     "metadata": {},
     "execution_count": 100
    }
   ],
   "source": [
    "# Salva  os resultados\n",
    "resultados = pd.DataFrame(data=dados_teste['PassengerId'], columns=['PassengerId','Survived'])\n",
    "resultados['Survived'] = ypred\n",
    "resultados.head()"
   ]
  },
  {
   "cell_type": "code",
   "execution_count": 101,
   "metadata": {},
   "outputs": [],
   "source": [
    "resultados.to_csv(\"titanic_gender_submission_joubert_3.csv\", index=False)"
   ]
  }
 ]
}